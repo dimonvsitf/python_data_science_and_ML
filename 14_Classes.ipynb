{
 "cells": [
  {
   "cell_type": "code",
   "execution_count": 18,
   "id": "90f98201-b2c8-41fb-a295-be5ccfa7f454",
   "metadata": {},
   "outputs": [],
   "source": [
    "class BankAccount:\n",
    "\n",
    "    def __init__(self, acct_num, balance):\n",
    "        self.balance = balance\n",
    "        self.account_number = acct_num\n",
    "\n",
    "    def withdraw_funds(self, amount):\n",
    "        \n",
    "        if amount <= self.balance:\n",
    "            self.balance = self.balance - amount \n",
    "            print(f\"Successful withdrawal, current balance {self.balance}\")\n",
    "        else:\n",
    "            print(\"Error: Insufficient Funds!\")\n",
    "    \n",
    "    \n",
    "    def deposit_funds(self, amount):\n",
    "        \n",
    "        if amount > 0:\n",
    "            self.balance = self.balance + amount \n",
    "            print(f\"Successful deposit, current balance {self.balance}\")\n",
    "        else:\n",
    "            print(\"Error: Invalid Amount!\")\n",
    "    \n",
    "    def get_balance(self):\n",
    "        return self.balance \n"
   ]
  },
  {
   "cell_type": "code",
   "execution_count": 19,
   "id": "db6b2302-bd1e-40e2-a985-d70c5ec5618a",
   "metadata": {},
   "outputs": [],
   "source": [
    "account1 = BankAccount(acct_num=\"XFX1234\", balance=20300)"
   ]
  },
  {
   "cell_type": "code",
   "execution_count": 20,
   "id": "77c6c664-d146-4b71-ba95-c4c7fe1c653b",
   "metadata": {},
   "outputs": [
    {
     "name": "stdout",
     "output_type": "stream",
     "text": [
      "Successful withdrawal, current balance 18300\n"
     ]
    }
   ],
   "source": [
    "account1.withdraw_funds(2000)"
   ]
  },
  {
   "cell_type": "code",
   "execution_count": 21,
   "id": "20d89aba-7d7c-40f8-a2f3-426f8cf8f9f7",
   "metadata": {},
   "outputs": [
    {
     "name": "stdout",
     "output_type": "stream",
     "text": [
      "Successful deposit, current balance 20300\n"
     ]
    }
   ],
   "source": [
    "account1.deposit_funds(2000)"
   ]
  },
  {
   "cell_type": "code",
   "execution_count": 7,
   "id": "a9ccf33a-5589-40e9-bfd8-3968653a3328",
   "metadata": {},
   "outputs": [
    {
     "data": {
      "text/plain": [
       "20300"
      ]
     },
     "execution_count": 7,
     "metadata": {},
     "output_type": "execute_result"
    }
   ],
   "source": [
    "account1.get_balance()"
   ]
  },
  {
   "cell_type": "code",
   "execution_count": 11,
   "id": "aa0e55e8-3861-44bc-9f3f-b21bbd74835d",
   "metadata": {},
   "outputs": [],
   "source": [
    "account2 = BankAccount(acct_num=\"ABC234\", balance=40000)"
   ]
  },
  {
   "cell_type": "code",
   "execution_count": 12,
   "id": "d2df6bb4-cf27-4da7-a25d-4a18d1698460",
   "metadata": {},
   "outputs": [
    {
     "name": "stdout",
     "output_type": "stream",
     "text": [
      "Successful withdrawal, current balance 30000\n"
     ]
    }
   ],
   "source": [
    "account2.withdraw_funds(10000)"
   ]
  },
  {
   "cell_type": "code",
   "execution_count": 22,
   "id": "19c4c33e-5189-41f6-a6a0-6ad6eb0784c4",
   "metadata": {},
   "outputs": [
    {
     "data": {
      "text/plain": [
       "20300"
      ]
     },
     "execution_count": 22,
     "metadata": {},
     "output_type": "execute_result"
    }
   ],
   "source": [
    "account1.balance"
   ]
  },
  {
   "cell_type": "code",
   "execution_count": 23,
   "id": "fb53a318-675b-4781-8af6-853956c7fa0d",
   "metadata": {},
   "outputs": [
    {
     "data": {
      "text/plain": [
       "30000"
      ]
     },
     "execution_count": 23,
     "metadata": {},
     "output_type": "execute_result"
    }
   ],
   "source": [
    "account2.balance"
   ]
  },
  {
   "cell_type": "code",
   "execution_count": null,
   "id": "eff2f6a6-6975-4f43-8dad-2f7d2d50b51e",
   "metadata": {},
   "outputs": [],
   "source": []
  }
 ],
 "metadata": {
  "kernelspec": {
   "display_name": "Python (gpt-env1)",
   "language": "python",
   "name": "gpt-env1"
  },
  "language_info": {
   "codemirror_mode": {
    "name": "ipython",
    "version": 3
   },
   "file_extension": ".py",
   "mimetype": "text/x-python",
   "name": "python",
   "nbconvert_exporter": "python",
   "pygments_lexer": "ipython3",
   "version": "3.8.10"
  }
 },
 "nbformat": 4,
 "nbformat_minor": 5
}
