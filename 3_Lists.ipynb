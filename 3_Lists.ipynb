{
 "cells": [
  {
   "cell_type": "code",
   "execution_count": 1,
   "id": "19d47c9f-acf3-4ba6-90a1-b1c594bb3198",
   "metadata": {},
   "outputs": [],
   "source": [
    "movies = []"
   ]
  },
  {
   "cell_type": "code",
   "execution_count": 2,
   "id": "f8aacfeb-9e35-441b-a53a-91988c196767",
   "metadata": {},
   "outputs": [
    {
     "data": {
      "text/plain": [
       "list"
      ]
     },
     "execution_count": 2,
     "metadata": {},
     "output_type": "execute_result"
    }
   ],
   "source": [
    "type(movies)"
   ]
  },
  {
   "cell_type": "code",
   "execution_count": 3,
   "id": "6cbd181d-c48f-4e8c-bfb0-ace59736973a",
   "metadata": {},
   "outputs": [],
   "source": [
    "movies.append('Matrix')"
   ]
  },
  {
   "cell_type": "code",
   "execution_count": 4,
   "id": "11c53e46-3eb7-4627-98d8-d8a2276ced20",
   "metadata": {},
   "outputs": [
    {
     "data": {
      "text/plain": [
       "['Matrix']"
      ]
     },
     "execution_count": 4,
     "metadata": {},
     "output_type": "execute_result"
    }
   ],
   "source": [
    "movies"
   ]
  },
  {
   "cell_type": "code",
   "execution_count": 5,
   "id": "7f9003c9-4db6-4fc6-b587-80848b5837af",
   "metadata": {},
   "outputs": [],
   "source": [
    "movies.append('Top Gun')"
   ]
  },
  {
   "cell_type": "code",
   "execution_count": 6,
   "id": "d539a67e-ac82-4770-82f8-a6c9ad3c07f2",
   "metadata": {},
   "outputs": [
    {
     "data": {
      "text/plain": [
       "['Matrix', 'Top Gun']"
      ]
     },
     "execution_count": 6,
     "metadata": {},
     "output_type": "execute_result"
    }
   ],
   "source": [
    "movies"
   ]
  },
  {
   "cell_type": "code",
   "execution_count": 7,
   "id": "602d9a36-ea0b-48b2-ba8f-c4fdb9a9de84",
   "metadata": {},
   "outputs": [],
   "source": [
    "movies = movies + ['Fast and Furious', 'Ten Commandments']"
   ]
  },
  {
   "cell_type": "code",
   "execution_count": 8,
   "id": "a1a002ae-87fe-4929-be66-616389b5af8a",
   "metadata": {},
   "outputs": [],
   "source": [
    "#movies.append(['Fast and Furious', 'Ten Commandments'])"
   ]
  },
  {
   "cell_type": "code",
   "execution_count": 9,
   "id": "461a02eb-648a-4841-b157-8425bd4b3988",
   "metadata": {},
   "outputs": [],
   "source": [
    "#movies"
   ]
  },
  {
   "cell_type": "code",
   "execution_count": 10,
   "id": "209fd1ca-81d8-458c-a414-008086c6d4b9",
   "metadata": {},
   "outputs": [
    {
     "data": {
      "text/plain": [
       "['Matrix', 'Top Gun', 'Fast and Furious', 'Ten Commandments']"
      ]
     },
     "execution_count": 10,
     "metadata": {},
     "output_type": "execute_result"
    }
   ],
   "source": [
    "movies"
   ]
  },
  {
   "cell_type": "code",
   "execution_count": 11,
   "id": "a7e2dbfc-a6a6-460b-96ea-c8c65f20454f",
   "metadata": {},
   "outputs": [
    {
     "data": {
      "text/plain": [
       "['Matrix', 'Top Gun', 'Fast and Furious', 'Ten Commandments']"
      ]
     },
     "execution_count": 11,
     "metadata": {},
     "output_type": "execute_result"
    }
   ],
   "source": [
    "movies"
   ]
  },
  {
   "cell_type": "code",
   "execution_count": 12,
   "id": "f781a705-946a-41c8-a04f-6e0706295932",
   "metadata": {},
   "outputs": [
    {
     "data": {
      "text/plain": [
       "'Matrix'"
      ]
     },
     "execution_count": 12,
     "metadata": {},
     "output_type": "execute_result"
    }
   ],
   "source": [
    "movies[0]"
   ]
  },
  {
   "cell_type": "code",
   "execution_count": 13,
   "id": "dd493481-2f45-4c22-b963-d6ab5ddcea60",
   "metadata": {},
   "outputs": [
    {
     "data": {
      "text/plain": [
       "'Ten Commandments'"
      ]
     },
     "execution_count": 13,
     "metadata": {},
     "output_type": "execute_result"
    }
   ],
   "source": [
    "movies[-1]"
   ]
  },
  {
   "cell_type": "code",
   "execution_count": 14,
   "id": "c4955696-1a10-421d-8875-afe1f0790c3a",
   "metadata": {},
   "outputs": [
    {
     "data": {
      "text/plain": [
       "4"
      ]
     },
     "execution_count": 14,
     "metadata": {},
     "output_type": "execute_result"
    }
   ],
   "source": [
    "len(movies)"
   ]
  },
  {
   "cell_type": "code",
   "execution_count": 15,
   "id": "cea5170e-b26f-46de-bae0-68df7b88d1ae",
   "metadata": {},
   "outputs": [],
   "source": [
    "movies.sort()"
   ]
  },
  {
   "cell_type": "code",
   "execution_count": 16,
   "id": "5074b482-2c1f-4bc0-83ba-c058a473c18b",
   "metadata": {},
   "outputs": [
    {
     "data": {
      "text/plain": [
       "['Fast and Furious', 'Matrix', 'Ten Commandments', 'Top Gun']"
      ]
     },
     "execution_count": 16,
     "metadata": {},
     "output_type": "execute_result"
    }
   ],
   "source": [
    "movies"
   ]
  },
  {
   "cell_type": "code",
   "execution_count": 17,
   "id": "d29c529c-38a8-455e-8096-52f46605e7e6",
   "metadata": {},
   "outputs": [],
   "source": [
    "movies.sort(reverse=True)"
   ]
  },
  {
   "cell_type": "code",
   "execution_count": 18,
   "id": "9f47f275-d7ce-4e82-ba91-da47179c2071",
   "metadata": {},
   "outputs": [
    {
     "data": {
      "text/plain": [
       "['Top Gun', 'Ten Commandments', 'Matrix', 'Fast and Furious']"
      ]
     },
     "execution_count": 18,
     "metadata": {},
     "output_type": "execute_result"
    }
   ],
   "source": [
    "movies"
   ]
  },
  {
   "cell_type": "code",
   "execution_count": 19,
   "id": "1446a68e-f7de-4532-bed6-c553f465177a",
   "metadata": {},
   "outputs": [],
   "source": [
    "movies.insert(2, 'Star Wars')"
   ]
  },
  {
   "cell_type": "code",
   "execution_count": 20,
   "id": "8102b999-38d7-4d37-80ed-e43347ff7f68",
   "metadata": {},
   "outputs": [
    {
     "data": {
      "text/plain": [
       "['Top Gun', 'Ten Commandments', 'Star Wars', 'Matrix', 'Fast and Furious']"
      ]
     },
     "execution_count": 20,
     "metadata": {},
     "output_type": "execute_result"
    }
   ],
   "source": [
    "movies"
   ]
  },
  {
   "cell_type": "code",
   "execution_count": 21,
   "id": "3e1615ee-e79a-4e8b-991b-d7eea2f38606",
   "metadata": {},
   "outputs": [
    {
     "data": {
      "text/plain": [
       "'Fast and Furious'"
      ]
     },
     "execution_count": 21,
     "metadata": {},
     "output_type": "execute_result"
    }
   ],
   "source": [
    "movies.pop() # Treat the list as a Stack"
   ]
  },
  {
   "cell_type": "code",
   "execution_count": 22,
   "id": "446a5fc5-a449-4918-8842-4cdb9e1c9041",
   "metadata": {},
   "outputs": [
    {
     "data": {
      "text/plain": [
       "['Top Gun', 'Ten Commandments', 'Star Wars', 'Matrix']"
      ]
     },
     "execution_count": 22,
     "metadata": {},
     "output_type": "execute_result"
    }
   ],
   "source": [
    "movies"
   ]
  },
  {
   "cell_type": "code",
   "execution_count": 23,
   "id": "dafa9e5f-176c-438a-8a73-39de41d08cda",
   "metadata": {},
   "outputs": [
    {
     "data": {
      "text/plain": [
       "'Top Gun'"
      ]
     },
     "execution_count": 23,
     "metadata": {},
     "output_type": "execute_result"
    }
   ],
   "source": [
    "movies.pop(0)"
   ]
  },
  {
   "cell_type": "code",
   "execution_count": 24,
   "id": "6652e94c-3e30-44b3-a3fc-6b9ec02c1922",
   "metadata": {},
   "outputs": [
    {
     "data": {
      "text/plain": [
       "['Ten Commandments', 'Star Wars', 'Matrix']"
      ]
     },
     "execution_count": 24,
     "metadata": {},
     "output_type": "execute_result"
    }
   ],
   "source": [
    "movies"
   ]
  },
  {
   "cell_type": "code",
   "execution_count": 25,
   "id": "b849ae57-804c-4175-91c8-8f18de2197f6",
   "metadata": {},
   "outputs": [],
   "source": [
    "movies_cp = movies[:]  # Copy the content of the list not the object reference."
   ]
  },
  {
   "cell_type": "code",
   "execution_count": 26,
   "id": "71551f66-e91c-4001-b23c-70b706ba18ac",
   "metadata": {},
   "outputs": [],
   "source": [
    "movies_cp.append(\"Mission Impossible\")"
   ]
  },
  {
   "cell_type": "code",
   "execution_count": 27,
   "id": "5a7d0ce8-c71a-4f5c-85c2-a1761735f0bd",
   "metadata": {},
   "outputs": [
    {
     "data": {
      "text/plain": [
       "['Ten Commandments', 'Star Wars', 'Matrix', 'Mission Impossible']"
      ]
     },
     "execution_count": 27,
     "metadata": {},
     "output_type": "execute_result"
    }
   ],
   "source": [
    "movies_cp"
   ]
  },
  {
   "cell_type": "code",
   "execution_count": 28,
   "id": "96cb5e82-4f90-4515-806b-ed1dd4da0f21",
   "metadata": {},
   "outputs": [
    {
     "data": {
      "text/plain": [
       "['Ten Commandments', 'Star Wars', 'Matrix']"
      ]
     },
     "execution_count": 28,
     "metadata": {},
     "output_type": "execute_result"
    }
   ],
   "source": [
    "movies"
   ]
  },
  {
   "cell_type": "code",
   "execution_count": 29,
   "id": "a8fcc1c7-82c6-4dcb-9e6a-8aaec2b622d9",
   "metadata": {},
   "outputs": [],
   "source": [
    "my_list = list(range(20))"
   ]
  },
  {
   "cell_type": "code",
   "execution_count": 30,
   "id": "3dcb323e-e9e8-4b35-a228-fc64cd16888c",
   "metadata": {},
   "outputs": [
    {
     "data": {
      "text/plain": [
       "[0, 1, 2, 3, 4, 5, 6, 7, 8, 9, 10, 11, 12, 13, 14, 15, 16, 17, 18, 19]"
      ]
     },
     "execution_count": 30,
     "metadata": {},
     "output_type": "execute_result"
    }
   ],
   "source": [
    "my_list"
   ]
  },
  {
   "cell_type": "code",
   "execution_count": 31,
   "id": "30149859-37af-475b-8509-7f0c5ed85f91",
   "metadata": {},
   "outputs": [],
   "source": [
    "fixed_list = tuple(movies)"
   ]
  },
  {
   "cell_type": "code",
   "execution_count": 32,
   "id": "abbd62ef-9155-4178-b043-4f2638d0f4e0",
   "metadata": {},
   "outputs": [
    {
     "data": {
      "text/plain": [
       "('Ten Commandments', 'Star Wars', 'Matrix')"
      ]
     },
     "execution_count": 32,
     "metadata": {},
     "output_type": "execute_result"
    }
   ],
   "source": [
    "fixed_list"
   ]
  },
  {
   "cell_type": "code",
   "execution_count": 33,
   "id": "3ac31533-072b-4b52-9d61-9d445baf2aa4",
   "metadata": {},
   "outputs": [
    {
     "ename": "SyntaxError",
     "evalue": "EOL while scanning string literal (1803409388.py, line 1)",
     "output_type": "error",
     "traceback": [
      "\u001b[0;36m  Cell \u001b[0;32mIn[33], line 1\u001b[0;36m\u001b[0m\n\u001b[0;31m    fixed_list.append('Gone with the Wind\")\u001b[0m\n\u001b[0m                                           ^\u001b[0m\n\u001b[0;31mSyntaxError\u001b[0m\u001b[0;31m:\u001b[0m EOL while scanning string literal\n"
     ]
    }
   ],
   "source": [
    "fixed_list.append('Gone with the Wind\")"
   ]
  },
  {
   "cell_type": "code",
   "execution_count": 34,
   "id": "33771cfe-8520-4920-966d-0dd0ca1e7c82",
   "metadata": {},
   "outputs": [
    {
     "data": {
      "text/plain": [
       "[0, 1, 2, 3, 4, 5, 6, 7, 8, 9, 10, 11, 12, 13, 14, 15, 16, 17, 18, 19]"
      ]
     },
     "execution_count": 34,
     "metadata": {},
     "output_type": "execute_result"
    }
   ],
   "source": [
    "my_list"
   ]
  },
  {
   "cell_type": "code",
   "execution_count": 35,
   "id": "8d1d4705-2c7c-4509-b604-bd173febaf4d",
   "metadata": {},
   "outputs": [],
   "source": [
    "# List comprehensions "
   ]
  },
  {
   "cell_type": "code",
   "execution_count": 36,
   "id": "9bb56ded-8a93-4289-a5d6-3dd1288954d6",
   "metadata": {},
   "outputs": [],
   "source": [
    "list_times_two = [ element * 2 for element in my_list]"
   ]
  },
  {
   "cell_type": "code",
   "execution_count": 37,
   "id": "7a6ac460-9f57-4291-aefa-58540f5948c7",
   "metadata": {},
   "outputs": [
    {
     "data": {
      "text/plain": [
       "[0, 2, 4, 6, 8, 10, 12, 14, 16, 18, 20, 22, 24, 26, 28, 30, 32, 34, 36, 38]"
      ]
     },
     "execution_count": 37,
     "metadata": {},
     "output_type": "execute_result"
    }
   ],
   "source": [
    "list_times_two"
   ]
  },
  {
   "cell_type": "code",
   "execution_count": 38,
   "id": "c6c697ea-a372-4181-8519-7d20d3745032",
   "metadata": {},
   "outputs": [],
   "source": [
    "import numpy as np "
   ]
  },
  {
   "cell_type": "code",
   "execution_count": 39,
   "id": "db3bb310-e004-4204-ad57-1ba8560875a6",
   "metadata": {},
   "outputs": [],
   "source": [
    "new_list = np.array(my_list)"
   ]
  },
  {
   "cell_type": "code",
   "execution_count": 40,
   "id": "22e21f71-66d5-4fe2-be7e-d61ffea23e4b",
   "metadata": {},
   "outputs": [
    {
     "data": {
      "text/plain": [
       "array([ 0,  1,  2,  3,  4,  5,  6,  7,  8,  9, 10, 11, 12, 13, 14, 15, 16,\n",
       "       17, 18, 19])"
      ]
     },
     "execution_count": 40,
     "metadata": {},
     "output_type": "execute_result"
    }
   ],
   "source": [
    "new_list"
   ]
  },
  {
   "cell_type": "code",
   "execution_count": 46,
   "id": "8f6c0bf1-0df2-4b77-8d98-c25bb1d4e802",
   "metadata": {},
   "outputs": [],
   "source": [
    "my_list_times_two = new_list * 2 "
   ]
  },
  {
   "cell_type": "code",
   "execution_count": 48,
   "id": "8d983da5-a2bc-4fbf-9864-7e6d00eac3b0",
   "metadata": {},
   "outputs": [
    {
     "data": {
      "text/plain": [
       "array([ 0,  2,  4,  6,  8, 10, 12, 14, 16, 18, 20, 22, 24, 26, 28, 30, 32,\n",
       "       34, 36, 38])"
      ]
     },
     "execution_count": 48,
     "metadata": {},
     "output_type": "execute_result"
    }
   ],
   "source": [
    "my_list_times_two"
   ]
  },
  {
   "cell_type": "code",
   "execution_count": 50,
   "id": "f54f076c-5379-4c24-a9ea-c5035893848b",
   "metadata": {},
   "outputs": [],
   "source": [
    "my_list_squared = new_list ** 2"
   ]
  },
  {
   "cell_type": "code",
   "execution_count": 52,
   "id": "af4a6fe0-af7d-43e2-8152-7723806c7c42",
   "metadata": {},
   "outputs": [
    {
     "data": {
      "text/plain": [
       "array([  0,   1,   4,   9,  16,  25,  36,  49,  64,  81, 100, 121, 144,\n",
       "       169, 196, 225, 256, 289, 324, 361])"
      ]
     },
     "execution_count": 52,
     "metadata": {},
     "output_type": "execute_result"
    }
   ],
   "source": [
    "my_list_squared"
   ]
  },
  {
   "cell_type": "code",
   "execution_count": null,
   "id": "b674d5d7-4087-46ee-ad96-d0ededcff60b",
   "metadata": {},
   "outputs": [],
   "source": []
  }
 ],
 "metadata": {
  "kernelspec": {
   "display_name": "Python (gpt-env1)",
   "language": "python",
   "name": "gpt-env1"
  },
  "language_info": {
   "codemirror_mode": {
    "name": "ipython",
    "version": 3
   },
   "file_extension": ".py",
   "mimetype": "text/x-python",
   "name": "python",
   "nbconvert_exporter": "python",
   "pygments_lexer": "ipython3",
   "version": "3.8.10"
  }
 },
 "nbformat": 4,
 "nbformat_minor": 5
}
