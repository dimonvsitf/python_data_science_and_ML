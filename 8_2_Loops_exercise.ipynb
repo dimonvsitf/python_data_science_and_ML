{
 "cells": [
  {
   "cell_type": "markdown",
   "id": "5bfb0fcd-5971-43b9-9cac-5e4b211b763d",
   "metadata": {},
   "source": [
    "# Python Loops Exercise: Cryptocurrency Wallet Tracker\n",
    "\n",
    "### Exercise Description\n",
    "\n",
    "        \n",
    "Write a Python script to simulate a simple cryptocurrency wallet tracker. Your script should:\n",
    "            \n",
    "1. Iterate over the list of cryptocurrency transactions: [300, -500, 1000, -2000, 400, -100, 700, -50].\n",
    "2. For each deposit (positive amount), add it to the wallet balance and print \"Deposit processed: [amount]\"\n",
    "3. For each withdrawal (negative amount), check if the wallet balance is sufficient. If so, subtract it from the balance; otherwise, print \"Insufficient funds for this withdrawal: [amount]\" and terminate the loop.\n",
    "4. After each transaction, print the current wallet balance.\n",
    "\n",
    "The initial wallet balance is 1000. Aim to provide clear output showing each transaction's processing and the wallet balance update.\n",
    "        \n",
    "### Expected Output\n",
    "\n",
    "An example of expected output (not exhaustive):\n",
    "\n",
    "Deposit processed: 300\n",
    "Current balance: 1300\n",
    "...\n",
    "Insufficient funds for this withdrawal: -2000\n",
    "        \n",
    "Hints\n",
    "        \n",
    "Use a for loop to iterate over the list. Utilize if statements to differentiate between deposits and withdrawals. The break statement will help you exit the loop when the balance is insufficient.\n"
   ]
  },
  {
   "cell_type": "code",
   "execution_count": 17,
   "id": "a029f551-f4c2-43ea-8b51-53998502b549",
   "metadata": {},
   "outputs": [
    {
     "name": "stdin",
     "output_type": "stream",
     "text": [
      "Starting balance is 1000. Provide a list of cryptocurrency transactions. e.g.[300, -500, 1000, -2000, 400, -100, 700, -50] [300, -500, 1000, -2000, 400, -100, 700, -50]\n"
     ]
    },
    {
     "name": "stdout",
     "output_type": "stream",
     "text": [
      "Deposit of 300 is processed. New balance: 1300\n",
      "Withdrawal of -500 is processed. New balance: 800\n",
      "Deposit of 1000 is processed. New balance: 1800\n",
      "Insufficient funds for this withdrawal: -2000. Current balance is 1800\n"
     ]
    }
   ],
   "source": [
    "balance = 1000\n",
    "str_input = input('Starting balance is 1000. Provide a list of cryptocurrency transactions. e.g.[300, -500, 1000, -2000, 400, -100, 700, -50]')\n",
    "\n",
    "try:\n",
    "    transactions = [ int(item) for item in str_input.strip(\"[]\").split(\", \") ]\n",
    "except ValueError:\n",
    "    print(\"invalid file format.Please ensure you're entering a list of numbers separated by commas.\")\n",
    "    transactions = []\n",
    "\n",
    "# type(transactions[0])\n",
    "\n",
    "for order in transactions: \n",
    "    if order >= 0:\n",
    "        balance += order\n",
    "        print (f'Deposit of {order} is processed. New balance: {balance}')\n",
    "    else: \n",
    "        delta = balance + order\n",
    "        if delta >=0:\n",
    "            balance += order\n",
    "            print(f'Withdrawal of {order} is processed. New balance: {balance}')\n",
    "        else: \n",
    "            print(f\"Insufficient funds for this withdrawal: {order}. Current balance is {balance}\")\n",
    "            break"
   ]
  }
 ],
 "metadata": {
  "kernelspec": {
   "display_name": "Python 3 (ipykernel)",
   "language": "python",
   "name": "python3"
  },
  "language_info": {
   "codemirror_mode": {
    "name": "ipython",
    "version": 3
   },
   "file_extension": ".py",
   "mimetype": "text/x-python",
   "name": "python",
   "nbconvert_exporter": "python",
   "pygments_lexer": "ipython3",
   "version": "3.11.7"
  }
 },
 "nbformat": 4,
 "nbformat_minor": 5
}
