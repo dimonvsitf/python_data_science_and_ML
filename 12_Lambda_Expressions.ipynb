{
 "cells": [
  {
   "cell_type": "code",
   "execution_count": 1,
   "id": "6271bd61-151e-4ee8-974d-bb48db0aec5d",
   "metadata": {},
   "outputs": [],
   "source": [
    "price_today = 100\n",
    "price_yesterday = 95"
   ]
  },
  {
   "cell_type": "code",
   "execution_count": 2,
   "id": "142b7964-5b86-46fb-868e-6dfae14ee799",
   "metadata": {},
   "outputs": [],
   "source": [
    "percentage_change = lambda current, previous: (current - previous) / previous * 100"
   ]
  },
  {
   "cell_type": "code",
   "execution_count": 3,
   "id": "d9a02a7a-3e76-4b41-a11e-69d1708f7328",
   "metadata": {},
   "outputs": [
    {
     "name": "stdout",
     "output_type": "stream",
     "text": [
      "Percentage change: 5.26%\n"
     ]
    }
   ],
   "source": [
    "print(f\"Percentage change: {percentage_change(price_today, price_yesterday):.2f}%\")"
   ]
  },
  {
   "cell_type": "code",
   "execution_count": 4,
   "id": "d5a30f22-21bf-4de6-9a85-faad7726be50",
   "metadata": {},
   "outputs": [],
   "source": [
    "stocks = [\n",
    "    {\"ticker\": \"AAPL\", \"price\": 150},\n",
    "    {\"ticker\": \"GOOG\", \"price\": 100},\n",
    "    {\"ticker\": \"TSLA\", \"price\": 200},\n",
    "    {\"ticker\": \"MSFT\", \"price\": 50}\n",
    "]\n",
    "            "
   ]
  },
  {
   "cell_type": "code",
   "execution_count": 5,
   "id": "1f8042a0-da59-4bf9-9b26-4205dbe4e611",
   "metadata": {},
   "outputs": [
    {
     "data": {
      "text/plain": [
       "[{'ticker': 'AAPL', 'price': 150},\n",
       " {'ticker': 'GOOG', 'price': 100},\n",
       " {'ticker': 'TSLA', 'price': 200},\n",
       " {'ticker': 'MSFT', 'price': 50}]"
      ]
     },
     "execution_count": 5,
     "metadata": {},
     "output_type": "execute_result"
    }
   ],
   "source": [
    "stocks"
   ]
  },
  {
   "cell_type": "code",
   "execution_count": 9,
   "id": "f3a6c84d-a846-4725-ba7a-ab8af56a212d",
   "metadata": {},
   "outputs": [],
   "source": [
    "expensive_stocks = filter(lambda asset: asset['price'] >=150, stocks)"
   ]
  },
  {
   "cell_type": "code",
   "execution_count": 10,
   "id": "c2b5c259-fc71-4896-b6b5-83b65c1131d0",
   "metadata": {},
   "outputs": [
    {
     "data": {
      "text/plain": [
       "filter"
      ]
     },
     "execution_count": 10,
     "metadata": {},
     "output_type": "execute_result"
    }
   ],
   "source": [
    "type(expensive_stocks)"
   ]
  },
  {
   "cell_type": "code",
   "execution_count": 8,
   "id": "cf496471-7ecd-419d-9fb1-1ac6fcc933a7",
   "metadata": {},
   "outputs": [
    {
     "name": "stdout",
     "output_type": "stream",
     "text": [
      "[{'ticker': 'AAPL', 'price': 150}, {'ticker': 'TSLA', 'price': 200}]\n"
     ]
    }
   ],
   "source": [
    "print(list(expensive_stocks))"
   ]
  },
  {
   "cell_type": "code",
   "execution_count": null,
   "id": "239047ec-5876-4829-8d67-a6f34c39d3d7",
   "metadata": {},
   "outputs": [],
   "source": []
  }
 ],
 "metadata": {
  "kernelspec": {
   "display_name": "Python (gpt-env1)",
   "language": "python",
   "name": "gpt-env1"
  },
  "language_info": {
   "codemirror_mode": {
    "name": "ipython",
    "version": 3
   },
   "file_extension": ".py",
   "mimetype": "text/x-python",
   "name": "python",
   "nbconvert_exporter": "python",
   "pygments_lexer": "ipython3",
   "version": "3.8.10"
  }
 },
 "nbformat": 4,
 "nbformat_minor": 5
}
