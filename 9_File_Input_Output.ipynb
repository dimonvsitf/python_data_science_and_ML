{
 "cells": [
  {
   "cell_type": "code",
   "execution_count": 1,
   "id": "932312d1-dd40-4a5f-a137-2199a49215e9",
   "metadata": {},
   "outputs": [
    {
     "name": "stdout",
     "output_type": "stream",
     "text": [
      "Writing my_file.txt\n"
     ]
    }
   ],
   "source": [
    "%%writefile my_file.txt \n",
    "\n",
    "This is a great day to learn Python.\n",
    "\n",
    "Let's enjoy it as much as we can.\n",
    "\n",
    "Good Bye."
   ]
  },
  {
   "cell_type": "code",
   "execution_count": 3,
   "id": "c5f7c510-d8f9-4100-876f-9aea2b673372",
   "metadata": {},
   "outputs": [],
   "source": [
    "data_file = open(\"my_file.txt\")"
   ]
  },
  {
   "cell_type": "code",
   "execution_count": 4,
   "id": "bf50661e-5667-4946-a90d-722bcb4e9722",
   "metadata": {},
   "outputs": [
    {
     "data": {
      "text/plain": [
       "['\\n',\n",
       " 'This is a great day to learn Python.\\n',\n",
       " '\\n',\n",
       " \"Let's enjoy it as much as we can.\\n\",\n",
       " '\\n',\n",
       " 'Good Bye.\\n']"
      ]
     },
     "execution_count": 4,
     "metadata": {},
     "output_type": "execute_result"
    }
   ],
   "source": [
    "data_file.readlines()"
   ]
  },
  {
   "cell_type": "code",
   "execution_count": 5,
   "id": "3c80c627-d1e5-4c6d-a3c5-aa7932ac7764",
   "metadata": {},
   "outputs": [
    {
     "name": "stdout",
     "output_type": "stream",
     "text": [
      "\n",
      "This is a great day to learn Python.\n",
      "\n",
      "Let's enjoy it as much as we can.\n",
      "\n",
      "Good Bye.\n"
     ]
    }
   ],
   "source": [
    "cat my_file.txt"
   ]
  },
  {
   "cell_type": "code",
   "execution_count": 6,
   "id": "23c6b457-c320-4c37-becb-8d1cb18e3e3d",
   "metadata": {},
   "outputs": [
    {
     "name": "stdout",
     "output_type": "stream",
     "text": [
      "/home/gptuser/courses/ai-feb-2024/datasets\n"
     ]
    }
   ],
   "source": [
    "cd datasets/"
   ]
  },
  {
   "cell_type": "code",
   "execution_count": 7,
   "id": "d2a0502f-abb7-497c-ae5b-98d6782d94ab",
   "metadata": {},
   "outputs": [
    {
     "name": "stdout",
     "output_type": "stream",
     "text": [
      "--2024-02-04 20:31:51--  https://files.grouplens.org/datasets/movielens/ml-100k.zip\n",
      "Resolving files.grouplens.org (files.grouplens.org)... 128.101.65.152\n",
      "Connecting to files.grouplens.org (files.grouplens.org)|128.101.65.152|:443... connected.\n",
      "HTTP request sent, awaiting response... 200 OK\n",
      "Length: 4924029 (4.7M) [application/zip]\n",
      "Saving to: ‘ml-100k.zip’\n",
      "\n",
      "ml-100k.zip         100%[===================>]   4.70M  2.30MB/s    in 2.0s    \n",
      "\n",
      "2024-02-04 20:31:55 (2.30 MB/s) - ‘ml-100k.zip’ saved [4924029/4924029]\n",
      "\n"
     ]
    }
   ],
   "source": [
    "!wget https://files.grouplens.org/datasets/movielens/ml-100k.zip"
   ]
  },
  {
   "cell_type": "code",
   "execution_count": 8,
   "id": "5a62de40-6997-4a7e-ac7f-85e96e8401b8",
   "metadata": {},
   "outputs": [
    {
     "name": "stdout",
     "output_type": "stream",
     "text": [
      "Archive:  ml-100k.zip\n",
      "   creating: ml-100k/\n",
      "  inflating: ml-100k/allbut.pl       \n",
      "  inflating: ml-100k/mku.sh          \n",
      "  inflating: ml-100k/README          \n",
      "  inflating: ml-100k/u.data          \n",
      "  inflating: ml-100k/u.genre         \n",
      "  inflating: ml-100k/u.info          \n",
      "  inflating: ml-100k/u.item          \n",
      "  inflating: ml-100k/u.occupation    \n",
      "  inflating: ml-100k/u.user          \n",
      "  inflating: ml-100k/u1.base         \n",
      "  inflating: ml-100k/u1.test         \n",
      "  inflating: ml-100k/u2.base         \n",
      "  inflating: ml-100k/u2.test         \n",
      "  inflating: ml-100k/u3.base         \n",
      "  inflating: ml-100k/u3.test         \n",
      "  inflating: ml-100k/u4.base         \n",
      "  inflating: ml-100k/u4.test         \n",
      "  inflating: ml-100k/u5.base         \n",
      "  inflating: ml-100k/u5.test         \n",
      "  inflating: ml-100k/ua.base         \n",
      "  inflating: ml-100k/ua.test         \n",
      "  inflating: ml-100k/ub.base         \n",
      "  inflating: ml-100k/ub.test         \n"
     ]
    }
   ],
   "source": [
    "!unzip ml-100k.zip"
   ]
  },
  {
   "cell_type": "code",
   "execution_count": 9,
   "id": "ff2f3065-ff59-4993-85f0-5443ac09ab94",
   "metadata": {},
   "outputs": [
    {
     "data": {
      "text/plain": [
       "'/home/gptuser/courses/ai-feb-2024/datasets'"
      ]
     },
     "execution_count": 9,
     "metadata": {},
     "output_type": "execute_result"
    }
   ],
   "source": [
    "pwd"
   ]
  },
  {
   "cell_type": "code",
   "execution_count": 10,
   "id": "e88d1d6a-8f34-45de-ba1f-550d51ce0078",
   "metadata": {},
   "outputs": [
    {
     "name": "stdout",
     "output_type": "stream",
     "text": [
      "/home/gptuser/courses/ai-feb-2024\n"
     ]
    }
   ],
   "source": [
    "cd .."
   ]
  },
  {
   "cell_type": "code",
   "execution_count": 11,
   "id": "434e6239-6711-4cc5-80f9-6fe9d86aa144",
   "metadata": {},
   "outputs": [],
   "source": [
    "movies_data = open(\"datasets/ml-100k/u.user\")"
   ]
  },
  {
   "cell_type": "code",
   "execution_count": 13,
   "id": "335e0b21-a6cc-45c4-b6be-8b9fa43cde0d",
   "metadata": {},
   "outputs": [],
   "source": [
    "movies_data_list = movies_data.readlines()"
   ]
  },
  {
   "cell_type": "code",
   "execution_count": 14,
   "id": "2372b247-45dc-43f2-a81e-8b9c0f2fd79f",
   "metadata": {},
   "outputs": [
    {
     "data": {
      "text/plain": [
       "['1|24|M|technician|85711\\n',\n",
       " '2|53|F|other|94043\\n',\n",
       " '3|23|M|writer|32067\\n',\n",
       " '4|24|M|technician|43537\\n',\n",
       " '5|33|F|other|15213\\n',\n",
       " '6|42|M|executive|98101\\n',\n",
       " '7|57|M|administrator|91344\\n',\n",
       " '8|36|M|administrator|05201\\n',\n",
       " '9|29|M|student|01002\\n',\n",
       " '10|53|M|lawyer|90703\\n']"
      ]
     },
     "execution_count": 14,
     "metadata": {},
     "output_type": "execute_result"
    }
   ],
   "source": [
    "movies_data_list[:10]"
   ]
  },
  {
   "cell_type": "code",
   "execution_count": 15,
   "id": "96e61e66-99c2-40b6-804f-a110c1fb2090",
   "metadata": {},
   "outputs": [
    {
     "data": {
      "text/plain": [
       "943"
      ]
     },
     "execution_count": 15,
     "metadata": {},
     "output_type": "execute_result"
    }
   ],
   "source": [
    "len(movies_data_list)"
   ]
  },
  {
   "cell_type": "code",
   "execution_count": null,
   "id": "ae204c2c-4ab5-4b6f-8120-1281dc337588",
   "metadata": {},
   "outputs": [],
   "source": []
  }
 ],
 "metadata": {
  "kernelspec": {
   "display_name": "Python (gpt-env1)",
   "language": "python",
   "name": "gpt-env1"
  },
  "language_info": {
   "codemirror_mode": {
    "name": "ipython",
    "version": 3
   },
   "file_extension": ".py",
   "mimetype": "text/x-python",
   "name": "python",
   "nbconvert_exporter": "python",
   "pygments_lexer": "ipython3",
   "version": "3.8.10"
  }
 },
 "nbformat": 4,
 "nbformat_minor": 5
}
