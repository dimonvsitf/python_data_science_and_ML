{
 "cells": [
  {
   "cell_type": "code",
   "execution_count": 1,
   "id": "e42a7884-3e01-4bdc-b4b3-a99391588143",
   "metadata": {},
   "outputs": [],
   "source": [
    "cryptos = {'BTC': ['Bitcoin', '843 Billion', 43000],\n",
    "           'ETH': ['Ethereum', '278 Billion', 2300] }"
   ]
  },
  {
   "cell_type": "code",
   "execution_count": 2,
   "id": "6fe97e9a-9e0c-4d4e-869d-2d78417906f7",
   "metadata": {},
   "outputs": [
    {
     "data": {
      "text/plain": [
       "['Ethereum', '278 Billion', 2300]"
      ]
     },
     "execution_count": 2,
     "metadata": {},
     "output_type": "execute_result"
    }
   ],
   "source": [
    "cryptos['ETH']"
   ]
  },
  {
   "cell_type": "code",
   "execution_count": 3,
   "id": "8d220230-0bd8-4203-b5ca-5b584eb8f1db",
   "metadata": {},
   "outputs": [
    {
     "data": {
      "text/plain": [
       "2300"
      ]
     },
     "execution_count": 3,
     "metadata": {},
     "output_type": "execute_result"
    }
   ],
   "source": [
    "cryptos['ETH'][-1]"
   ]
  },
  {
   "cell_type": "code",
   "execution_count": 4,
   "id": "94eef14c-c4a5-451a-b37d-cd3a56000771",
   "metadata": {},
   "outputs": [
    {
     "data": {
      "text/plain": [
       "False"
      ]
     },
     "execution_count": 4,
     "metadata": {},
     "output_type": "execute_result"
    }
   ],
   "source": [
    "'ISG' in cryptos.keys()"
   ]
  },
  {
   "cell_type": "code",
   "execution_count": 5,
   "id": "de0071a5-82f9-4ff6-b6dd-d5857ad0b289",
   "metadata": {},
   "outputs": [
    {
     "data": {
      "text/plain": [
       "dict_keys(['BTC', 'ETH'])"
      ]
     },
     "execution_count": 5,
     "metadata": {},
     "output_type": "execute_result"
    }
   ],
   "source": [
    "cryptos.keys()"
   ]
  },
  {
   "cell_type": "code",
   "execution_count": 7,
   "id": "1cfd6273-0774-44f3-b7cf-7bc0638252b6",
   "metadata": {},
   "outputs": [
    {
     "data": {
      "text/plain": [
       "True"
      ]
     },
     "execution_count": 7,
     "metadata": {},
     "output_type": "execute_result"
    }
   ],
   "source": [
    "'BTC' in cryptos.keys()"
   ]
  },
  {
   "cell_type": "code",
   "execution_count": 8,
   "id": "f170b8e4-6239-45af-9b81-6ecb76dc0dfa",
   "metadata": {},
   "outputs": [],
   "source": [
    "cryptos['ISG'] = ['InnosoftDAO', '2 Million', 1.5]"
   ]
  },
  {
   "cell_type": "code",
   "execution_count": 9,
   "id": "39052437-e34d-4ebd-9d23-3f0d3ec4fc31",
   "metadata": {},
   "outputs": [
    {
     "data": {
      "text/plain": [
       "{'BTC': ['Bitcoin', '843 Billion', 43000],\n",
       " 'ETH': ['Ethereum', '278 Billion', 2300],\n",
       " 'ISG': ['InnosoftDAO', '2 Million', 1.5]}"
      ]
     },
     "execution_count": 9,
     "metadata": {},
     "output_type": "execute_result"
    }
   ],
   "source": [
    "cryptos"
   ]
  },
  {
   "cell_type": "code",
   "execution_count": 10,
   "id": "ffdff54d-85a9-402a-b6b3-8d674e28f1cf",
   "metadata": {},
   "outputs": [],
   "source": [
    "cryptos['ISG'][-1] = 2.5"
   ]
  },
  {
   "cell_type": "code",
   "execution_count": 11,
   "id": "15d35038-a3c9-4172-9b38-1f709033c366",
   "metadata": {},
   "outputs": [
    {
     "data": {
      "text/plain": [
       "{'BTC': ['Bitcoin', '843 Billion', 43000],\n",
       " 'ETH': ['Ethereum', '278 Billion', 2300],\n",
       " 'ISG': ['InnosoftDAO', '2 Million', 2.5]}"
      ]
     },
     "execution_count": 11,
     "metadata": {},
     "output_type": "execute_result"
    }
   ],
   "source": [
    "cryptos"
   ]
  },
  {
   "cell_type": "code",
   "execution_count": 12,
   "id": "4e6f336e-d527-4888-81d3-1414266a10e8",
   "metadata": {},
   "outputs": [],
   "source": [
    "cryptos ['ISG'] = ['Innosoft', '3 Million', 5]"
   ]
  },
  {
   "cell_type": "code",
   "execution_count": 14,
   "id": "95a64855-b622-4bd7-a0e9-cad4e34e722b",
   "metadata": {},
   "outputs": [
    {
     "data": {
      "text/plain": [
       "{'BTC': ['Bitcoin', '843 Billion', 43000],\n",
       " 'ETH': ['Ethereum', '278 Billion', 2300],\n",
       " 'ISG': ['Innosoft', '3 Million', 5]}"
      ]
     },
     "execution_count": 14,
     "metadata": {},
     "output_type": "execute_result"
    }
   ],
   "source": [
    "cryptos"
   ]
  },
  {
   "cell_type": "code",
   "execution_count": 15,
   "id": "df21856d-e79c-43f8-9f92-0080c1a0a931",
   "metadata": {},
   "outputs": [],
   "source": [
    "cryptos['DOT'] = 12 "
   ]
  },
  {
   "cell_type": "code",
   "execution_count": 16,
   "id": "d0590bc3-81c1-4e79-926e-cd4559886b3e",
   "metadata": {},
   "outputs": [
    {
     "data": {
      "text/plain": [
       "{'BTC': ['Bitcoin', '843 Billion', 43000],\n",
       " 'ETH': ['Ethereum', '278 Billion', 2300],\n",
       " 'ISG': ['Innosoft', '3 Million', 5],\n",
       " 'DOT': 12}"
      ]
     },
     "execution_count": 16,
     "metadata": {},
     "output_type": "execute_result"
    }
   ],
   "source": [
    "cryptos"
   ]
  },
  {
   "cell_type": "code",
   "execution_count": 17,
   "id": "351efb69-9e70-4260-ac1c-704690fcfb5a",
   "metadata": {},
   "outputs": [],
   "source": [
    "animals = {'monkey': [2, 'big head'],\n",
    "           'cat': [4, 'small head'],\n",
    "           'spider': [8, 'tiny head']\n",
    "          }"
   ]
  },
  {
   "cell_type": "code",
   "execution_count": 18,
   "id": "1f86dd1d-a69e-48c2-87a5-276482dca5fd",
   "metadata": {},
   "outputs": [
    {
     "data": {
      "text/plain": [
       "{'monkey': [2, 'big head'],\n",
       " 'cat': [4, 'small head'],\n",
       " 'spider': [8, 'tiny head']}"
      ]
     },
     "execution_count": 18,
     "metadata": {},
     "output_type": "execute_result"
    }
   ],
   "source": [
    "animals"
   ]
  },
  {
   "cell_type": "code",
   "execution_count": 20,
   "id": "bf8caef9-1984-429f-93c2-4e4392349295",
   "metadata": {},
   "outputs": [
    {
     "data": {
      "text/plain": [
       "'big head'"
      ]
     },
     "execution_count": 20,
     "metadata": {},
     "output_type": "execute_result"
    }
   ],
   "source": [
    "animals['monkey'][-1]"
   ]
  },
  {
   "cell_type": "code",
   "execution_count": 21,
   "id": "79b27b96-c0a2-46c2-a0bf-58d8876aea85",
   "metadata": {},
   "outputs": [
    {
     "data": {
      "text/plain": [
       "8"
      ]
     },
     "execution_count": 21,
     "metadata": {},
     "output_type": "execute_result"
    }
   ],
   "source": [
    "animals['spider'][0]"
   ]
  },
  {
   "cell_type": "code",
   "execution_count": 24,
   "id": "8a211fc4-b81a-4b12-9dd1-e50f3296d036",
   "metadata": {},
   "outputs": [
    {
     "name": "stdout",
     "output_type": "stream",
     "text": [
      "monkey  has a  big head  and 2 legs\n",
      "cat  has a  small head  and 4 legs\n",
      "spider  has a  tiny head  and 8 legs\n"
     ]
    }
   ],
   "source": [
    "for animal in animals.keys():\n",
    "    number_of_legs = animals[animal][0]\n",
    "    head_size = animals[animal][1]\n",
    "    print(f\"{animal}  has a  {head_size}  and {number_of_legs} legs\")"
   ]
  },
  {
   "cell_type": "code",
   "execution_count": 25,
   "id": "b7a512ed-bf43-4174-a1a1-9f5ef800caa6",
   "metadata": {},
   "outputs": [
    {
     "data": {
      "text/plain": [
       "{'BTC': ['Bitcoin', '843 Billion', 43000],\n",
       " 'ETH': ['Ethereum', '278 Billion', 2300],\n",
       " 'ISG': ['Innosoft', '3 Million', 5],\n",
       " 'DOT': 12}"
      ]
     },
     "execution_count": 25,
     "metadata": {},
     "output_type": "execute_result"
    }
   ],
   "source": [
    "cryptos"
   ]
  },
  {
   "cell_type": "code",
   "execution_count": 26,
   "id": "c3d5ac4d-ca77-4075-8f27-8d0526c35a18",
   "metadata": {},
   "outputs": [],
   "source": [
    "del(cryptos['DOT'])"
   ]
  },
  {
   "cell_type": "code",
   "execution_count": 27,
   "id": "5dac5975-b0cb-4689-9fda-beac9f6d2eba",
   "metadata": {},
   "outputs": [
    {
     "data": {
      "text/plain": [
       "{'BTC': ['Bitcoin', '843 Billion', 43000],\n",
       " 'ETH': ['Ethereum', '278 Billion', 2300],\n",
       " 'ISG': ['Innosoft', '3 Million', 5]}"
      ]
     },
     "execution_count": 27,
     "metadata": {},
     "output_type": "execute_result"
    }
   ],
   "source": [
    "cryptos"
   ]
  },
  {
   "cell_type": "code",
   "execution_count": 28,
   "id": "1c00ca64-95f8-486d-adfa-3ce1f9eee3bc",
   "metadata": {},
   "outputs": [],
   "source": [
    "cryptos['ISG'] = ['Innosoft Gulf', '5 Million', 3]"
   ]
  },
  {
   "cell_type": "code",
   "execution_count": 29,
   "id": "81963082-ca5d-49b4-97e0-8baafea8d739",
   "metadata": {},
   "outputs": [
    {
     "data": {
      "text/plain": [
       "{'BTC': ['Bitcoin', '843 Billion', 43000],\n",
       " 'ETH': ['Ethereum', '278 Billion', 2300],\n",
       " 'ISG': ['Innosoft Gulf', '5 Million', 3]}"
      ]
     },
     "execution_count": 29,
     "metadata": {},
     "output_type": "execute_result"
    }
   ],
   "source": [
    "cryptos"
   ]
  },
  {
   "cell_type": "code",
   "execution_count": 30,
   "id": "a0dbdb11-8bd8-44e8-b174-fb8f96ec0c72",
   "metadata": {},
   "outputs": [],
   "source": [
    "# [] --> List\n",
    "# () --> Tuple\n",
    "# {} --> Set\n",
    "# {key:value} -> Dictionary "
   ]
  },
  {
   "cell_type": "code",
   "execution_count": 31,
   "id": "9aa87843-6c86-49b8-90f7-8babfdb4b57e",
   "metadata": {},
   "outputs": [],
   "source": [
    "names = ['Prashant', 'Arif', 'Linda']"
   ]
  },
  {
   "cell_type": "code",
   "execution_count": 32,
   "id": "8c5a9fc4-309c-4cc7-857e-e6fd7029c71b",
   "metadata": {},
   "outputs": [
    {
     "data": {
      "text/plain": [
       "'Arif'"
      ]
     },
     "execution_count": 32,
     "metadata": {},
     "output_type": "execute_result"
    }
   ],
   "source": [
    "names.pop(1)"
   ]
  },
  {
   "cell_type": "code",
   "execution_count": 33,
   "id": "083d4846-02bb-46e3-a07a-c6f36efc938c",
   "metadata": {},
   "outputs": [
    {
     "data": {
      "text/plain": [
       "['Prashant', 'Linda']"
      ]
     },
     "execution_count": 33,
     "metadata": {},
     "output_type": "execute_result"
    }
   ],
   "source": [
    "names"
   ]
  },
  {
   "cell_type": "code",
   "execution_count": null,
   "id": "d3d82051-0c09-438e-889f-af7e0c834a2e",
   "metadata": {},
   "outputs": [],
   "source": []
  }
 ],
 "metadata": {
  "kernelspec": {
   "display_name": "Python (gpt-env1)",
   "language": "python",
   "name": "gpt-env1"
  },
  "language_info": {
   "codemirror_mode": {
    "name": "ipython",
    "version": 3
   },
   "file_extension": ".py",
   "mimetype": "text/x-python",
   "name": "python",
   "nbconvert_exporter": "python",
   "pygments_lexer": "ipython3",
   "version": "3.8.10"
  }
 },
 "nbformat": 4,
 "nbformat_minor": 5
}
