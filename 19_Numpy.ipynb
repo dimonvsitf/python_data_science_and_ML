{
 "cells": [
  {
   "cell_type": "code",
   "execution_count": 1,
   "id": "9af82835-f5c8-4dfe-8ae0-75b2af06fb80",
   "metadata": {},
   "outputs": [],
   "source": [
    "#!pip install numpy"
   ]
  },
  {
   "cell_type": "code",
   "execution_count": 2,
   "id": "1a5801d5-dfa0-44b8-8703-f683e2af3063",
   "metadata": {},
   "outputs": [],
   "source": [
    "import numpy as np"
   ]
  },
  {
   "cell_type": "code",
   "execution_count": 3,
   "id": "5cca5315-b223-4411-9233-4a31c1aa06a9",
   "metadata": {},
   "outputs": [],
   "source": [
    "my_list = np.arange(10)"
   ]
  },
  {
   "cell_type": "code",
   "execution_count": 4,
   "id": "73644c37-cd7d-43b6-a6d2-334cad44bf17",
   "metadata": {},
   "outputs": [
    {
     "data": {
      "text/plain": [
       "array([0, 1, 2, 3, 4, 5, 6, 7, 8, 9])"
      ]
     },
     "execution_count": 4,
     "metadata": {},
     "output_type": "execute_result"
    }
   ],
   "source": [
    "my_list"
   ]
  },
  {
   "cell_type": "code",
   "execution_count": 5,
   "id": "8b36a4fa-eda8-4f06-ade9-f3bc805f3e16",
   "metadata": {},
   "outputs": [
    {
     "data": {
      "text/plain": [
       "array([ 0,  1,  4,  9, 16, 25, 36, 49, 64, 81])"
      ]
     },
     "execution_count": 5,
     "metadata": {},
     "output_type": "execute_result"
    }
   ],
   "source": [
    "my_list ** 2"
   ]
  },
  {
   "cell_type": "code",
   "execution_count": 6,
   "id": "4bdca95e-4be8-4558-a67b-4a64f256ad55",
   "metadata": {},
   "outputs": [],
   "source": [
    "customer_purchases = np.array([[45, 43, 41], [34, 36, 37]])"
   ]
  },
  {
   "cell_type": "code",
   "execution_count": 7,
   "id": "082f1fc7-7229-49fc-99ca-811d7ae06b3d",
   "metadata": {},
   "outputs": [
    {
     "data": {
      "text/plain": [
       "array([[45, 43, 41],\n",
       "       [34, 36, 37]])"
      ]
     },
     "execution_count": 7,
     "metadata": {},
     "output_type": "execute_result"
    }
   ],
   "source": [
    "customer_purchases"
   ]
  },
  {
   "cell_type": "code",
   "execution_count": 8,
   "id": "6741c39b-b72b-4d00-a0d5-d235c8aaaf88",
   "metadata": {},
   "outputs": [
    {
     "data": {
      "text/plain": [
       "(2, 3)"
      ]
     },
     "execution_count": 8,
     "metadata": {},
     "output_type": "execute_result"
    }
   ],
   "source": [
    "customer_purchases.shape"
   ]
  },
  {
   "cell_type": "code",
   "execution_count": 9,
   "id": "e3c83682-8f17-4c50-9de1-09314ba5406c",
   "metadata": {},
   "outputs": [
    {
     "data": {
      "text/plain": [
       "array([45, 43, 41])"
      ]
     },
     "execution_count": 9,
     "metadata": {},
     "output_type": "execute_result"
    }
   ],
   "source": [
    "customer_purchases[0]"
   ]
  },
  {
   "cell_type": "code",
   "execution_count": 10,
   "id": "11a6bdb4-5df1-422a-b2b3-6ff1af5367e8",
   "metadata": {},
   "outputs": [
    {
     "data": {
      "text/plain": [
       "43.0"
      ]
     },
     "execution_count": 10,
     "metadata": {},
     "output_type": "execute_result"
    }
   ],
   "source": [
    "customer_purchases[0].mean()"
   ]
  },
  {
   "cell_type": "code",
   "execution_count": 11,
   "id": "5872b7bd-62e5-4b65-a2df-b31131dd5203",
   "metadata": {},
   "outputs": [
    {
     "data": {
      "text/plain": [
       "1.632993161855452"
      ]
     },
     "execution_count": 11,
     "metadata": {},
     "output_type": "execute_result"
    }
   ],
   "source": [
    "customer_purchases[0].std()"
   ]
  },
  {
   "cell_type": "code",
   "execution_count": 13,
   "id": "87073d34-ff79-495f-83e2-e86f1dc27236",
   "metadata": {},
   "outputs": [
    {
     "data": {
      "text/plain": [
       "41"
      ]
     },
     "execution_count": 13,
     "metadata": {},
     "output_type": "execute_result"
    }
   ],
   "source": [
    "customer_purchases[0].min()"
   ]
  },
  {
   "cell_type": "code",
   "execution_count": 14,
   "id": "b6f7f984-707a-4446-9b22-793b28fec400",
   "metadata": {},
   "outputs": [
    {
     "data": {
      "text/plain": [
       "45"
      ]
     },
     "execution_count": 14,
     "metadata": {},
     "output_type": "execute_result"
    }
   ],
   "source": [
    "customer_purchases.max()"
   ]
  },
  {
   "cell_type": "code",
   "execution_count": 15,
   "id": "b18045d3-4464-4e7a-8587-6e273f8e182e",
   "metadata": {},
   "outputs": [],
   "source": [
    "image = np.random.rand(64, 64, 3)"
   ]
  },
  {
   "cell_type": "code",
   "execution_count": 16,
   "id": "b1592f2f-fc4f-4b02-8b6c-bd759444ec51",
   "metadata": {},
   "outputs": [
    {
     "data": {
      "text/plain": [
       "(64, 64, 3)"
      ]
     },
     "execution_count": 16,
     "metadata": {},
     "output_type": "execute_result"
    }
   ],
   "source": [
    "image.shape"
   ]
  },
  {
   "cell_type": "code",
   "execution_count": 17,
   "id": "e6df8ddb-f994-443d-ac93-338a599f7574",
   "metadata": {},
   "outputs": [
    {
     "data": {
      "text/plain": [
       "0.9999956847363707"
      ]
     },
     "execution_count": 17,
     "metadata": {},
     "output_type": "execute_result"
    }
   ],
   "source": [
    "image.max()"
   ]
  },
  {
   "cell_type": "code",
   "execution_count": 18,
   "id": "5e06a0b1-7a99-4256-82da-8558f3ab7b03",
   "metadata": {},
   "outputs": [
    {
     "data": {
      "text/plain": [
       "0.00011543902275412687"
      ]
     },
     "execution_count": 18,
     "metadata": {},
     "output_type": "execute_result"
    }
   ],
   "source": [
    "image.min()"
   ]
  },
  {
   "cell_type": "code",
   "execution_count": 19,
   "id": "55c9ff75-a141-42b3-be5b-750d641e51e6",
   "metadata": {},
   "outputs": [],
   "source": [
    "btc_prices = np.array([10000, 10500, 10250])\n",
    "eth_prices = np.array([1000, 1050, 1025])"
   ]
  },
  {
   "cell_type": "code",
   "execution_count": 21,
   "id": "7627d567-3dd7-46f4-b768-094590688126",
   "metadata": {},
   "outputs": [],
   "source": [
    "btc_returns = (btc_prices[1:] - btc_prices[:-1]) / btc_prices[:-1]\n",
    "eth_returns = (eth_prices[1:] - eth_prices[:-1]) / eth_prices[:-1]"
   ]
  },
  {
   "cell_type": "code",
   "execution_count": 22,
   "id": "395efb28-fdde-4541-9655-6e7053a55dee",
   "metadata": {},
   "outputs": [
    {
     "data": {
      "text/plain": [
       "array([ 0.05      , -0.02380952])"
      ]
     },
     "execution_count": 22,
     "metadata": {},
     "output_type": "execute_result"
    }
   ],
   "source": [
    "btc_returns"
   ]
  },
  {
   "cell_type": "code",
   "execution_count": 23,
   "id": "8d9932b7-b488-43cf-bf9e-efaef732ee90",
   "metadata": {},
   "outputs": [
    {
     "data": {
      "text/plain": [
       "array([ 0.05      , -0.02380952])"
      ]
     },
     "execution_count": 23,
     "metadata": {},
     "output_type": "execute_result"
    }
   ],
   "source": [
    "eth_returns"
   ]
  },
  {
   "cell_type": "code",
   "execution_count": 24,
   "id": "8a386cf0-e19a-447d-a779-1cbd85b1c2ff",
   "metadata": {},
   "outputs": [],
   "source": [
    "dot_product = np.dot(btc_returns, eth_returns)"
   ]
  },
  {
   "cell_type": "code",
   "execution_count": 25,
   "id": "9413cbd7-dd6a-4cdd-b9ce-de1b4a120df3",
   "metadata": {},
   "outputs": [
    {
     "name": "stdout",
     "output_type": "stream",
     "text": [
      "Dot product:  0.0030668934240362816\n"
     ]
    }
   ],
   "source": [
    "print('Dot product: ', dot_product)"
   ]
  },
  {
   "cell_type": "code",
   "execution_count": null,
   "id": "35734553-c2ea-4f0b-984a-b40474fd6db3",
   "metadata": {},
   "outputs": [],
   "source": []
  }
 ],
 "metadata": {
  "kernelspec": {
   "display_name": "Python (gpt-env1)",
   "language": "python",
   "name": "gpt-env1"
  },
  "language_info": {
   "codemirror_mode": {
    "name": "ipython",
    "version": 3
   },
   "file_extension": ".py",
   "mimetype": "text/x-python",
   "name": "python",
   "nbconvert_exporter": "python",
   "pygments_lexer": "ipython3",
   "version": "3.8.10"
  }
 },
 "nbformat": 4,
 "nbformat_minor": 5
}
