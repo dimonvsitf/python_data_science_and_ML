{
 "cells": [
  {
   "cell_type": "code",
   "execution_count": 1,
   "id": "b4cc0441-8094-47b8-af22-d0a8e214e89f",
   "metadata": {},
   "outputs": [],
   "source": [
    "exchanges = {'Binance', 'Kucoin', 'Crypto.com'}"
   ]
  },
  {
   "cell_type": "code",
   "execution_count": 3,
   "id": "57ba69cb-b5cd-4a32-b776-964a659742f6",
   "metadata": {},
   "outputs": [
    {
     "data": {
      "text/plain": [
       "set"
      ]
     },
     "execution_count": 3,
     "metadata": {},
     "output_type": "execute_result"
    }
   ],
   "source": [
    "type(exchanges)"
   ]
  },
  {
   "cell_type": "code",
   "execution_count": 4,
   "id": "ef40b79e-8d3c-42fe-803a-c99ca1a82135",
   "metadata": {},
   "outputs": [],
   "source": [
    "exchanges.add('BitOasis')"
   ]
  },
  {
   "cell_type": "code",
   "execution_count": 5,
   "id": "8a01015d-80bd-4fac-8016-b90c265a959b",
   "metadata": {},
   "outputs": [
    {
     "data": {
      "text/plain": [
       "{'Binance', 'BitOasis', 'Crypto.com', 'Kucoin'}"
      ]
     },
     "execution_count": 5,
     "metadata": {},
     "output_type": "execute_result"
    }
   ],
   "source": [
    "exchanges"
   ]
  },
  {
   "cell_type": "code",
   "execution_count": 6,
   "id": "90e28913-312f-4c25-98b8-6f10235a3578",
   "metadata": {},
   "outputs": [],
   "source": [
    "exchanges.add('Binance')"
   ]
  },
  {
   "cell_type": "code",
   "execution_count": 7,
   "id": "d5bb0877-7a32-4f6b-885a-3a5d2db77d60",
   "metadata": {},
   "outputs": [
    {
     "data": {
      "text/plain": [
       "{'Binance', 'BitOasis', 'Crypto.com', 'Kucoin'}"
      ]
     },
     "execution_count": 7,
     "metadata": {},
     "output_type": "execute_result"
    }
   ],
   "source": [
    "exchanges"
   ]
  },
  {
   "cell_type": "code",
   "execution_count": 8,
   "id": "73b276a5-c95e-473f-8c38-920152c5af3b",
   "metadata": {},
   "outputs": [],
   "source": [
    "job_titles = ['Secretary', 'Teller', 'Teller', 'Manager', 'Marketing Agent']"
   ]
  },
  {
   "cell_type": "code",
   "execution_count": 9,
   "id": "876db93b-79f5-478d-a76e-3425c5132623",
   "metadata": {},
   "outputs": [
    {
     "data": {
      "text/plain": [
       "list"
      ]
     },
     "execution_count": 9,
     "metadata": {},
     "output_type": "execute_result"
    }
   ],
   "source": [
    "type(job_titles)"
   ]
  },
  {
   "cell_type": "code",
   "execution_count": 10,
   "id": "3f7b080e-1cc2-4899-bf15-79fb7935e2b2",
   "metadata": {},
   "outputs": [],
   "source": [
    "unique_job_titles = set(job_titles)"
   ]
  },
  {
   "cell_type": "code",
   "execution_count": 11,
   "id": "ad6685bd-1488-4430-9180-48a6a0be1e8d",
   "metadata": {},
   "outputs": [
    {
     "data": {
      "text/plain": [
       "{'Manager', 'Marketing Agent', 'Secretary', 'Teller'}"
      ]
     },
     "execution_count": 11,
     "metadata": {},
     "output_type": "execute_result"
    }
   ],
   "source": [
    "unique_job_titles"
   ]
  },
  {
   "cell_type": "code",
   "execution_count": 14,
   "id": "b7c267ec-68b4-4048-ae69-0eba06ad20fc",
   "metadata": {},
   "outputs": [],
   "source": [
    "sorted_unique_job_titles = sorted(list(unique_job_titles))"
   ]
  },
  {
   "cell_type": "code",
   "execution_count": 15,
   "id": "941d423f-fcc0-469b-bdad-07d7ff2627d9",
   "metadata": {},
   "outputs": [
    {
     "data": {
      "text/plain": [
       "['Manager', 'Marketing Agent', 'Secretary', 'Teller']"
      ]
     },
     "execution_count": 15,
     "metadata": {},
     "output_type": "execute_result"
    }
   ],
   "source": [
    "sorted_unique_job_titles"
   ]
  },
  {
   "cell_type": "code",
   "execution_count": null,
   "id": "7b58f4ac-b104-462b-bf3d-f97712db5500",
   "metadata": {},
   "outputs": [],
   "source": []
  }
 ],
 "metadata": {
  "kernelspec": {
   "display_name": "Python (gpt-env1)",
   "language": "python",
   "name": "gpt-env1"
  },
  "language_info": {
   "codemirror_mode": {
    "name": "ipython",
    "version": 3
   },
   "file_extension": ".py",
   "mimetype": "text/x-python",
   "name": "python",
   "nbconvert_exporter": "python",
   "pygments_lexer": "ipython3",
   "version": "3.8.10"
  }
 },
 "nbformat": 4,
 "nbformat_minor": 5
}
