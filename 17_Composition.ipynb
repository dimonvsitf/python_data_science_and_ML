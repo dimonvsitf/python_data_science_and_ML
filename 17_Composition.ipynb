{
 "cells": [
  {
   "cell_type": "code",
   "execution_count": 1,
   "id": "65e7f9c5-6c50-404e-8375-27313163c781",
   "metadata": {},
   "outputs": [],
   "source": [
    "from bank.bank_account import BankAccount\n",
    "from bank.checking_account import CheckingAccount\n",
    "from bank.customer import Customer"
   ]
  },
  {
   "cell_type": "code",
   "execution_count": 2,
   "id": "b718afc3-d4f6-4a7b-b542-3d9094c79ae9",
   "metadata": {},
   "outputs": [],
   "source": [
    "regular_account = BankAccount('ABC123', 15000)"
   ]
  },
  {
   "cell_type": "code",
   "execution_count": 3,
   "id": "deb523dc-d22d-4424-8184-31b4b416d2df",
   "metadata": {},
   "outputs": [],
   "source": [
    "checking_account = CheckingAccount('XYZ789', 30000, 7000)"
   ]
  },
  {
   "cell_type": "code",
   "execution_count": 4,
   "id": "401e0e20-e9ef-498b-a8ab-2a0c1a29cf88",
   "metadata": {},
   "outputs": [],
   "source": [
    "customer1 = Customer('Linda')"
   ]
  },
  {
   "cell_type": "code",
   "execution_count": 5,
   "id": "60c79d15-f6d6-43fa-900f-159337ad6709",
   "metadata": {},
   "outputs": [],
   "source": [
    "customer1.add_account(regular_account)"
   ]
  },
  {
   "cell_type": "code",
   "execution_count": 6,
   "id": "9f534494-12cb-4641-a5e9-8eff56fd0682",
   "metadata": {},
   "outputs": [],
   "source": [
    "customer1.add_account(checking_account)"
   ]
  },
  {
   "cell_type": "code",
   "execution_count": 7,
   "id": "5ba25893-f596-4724-9445-b2e792b958fe",
   "metadata": {},
   "outputs": [
    {
     "name": "stdout",
     "output_type": "stream",
     "text": [
      "Customer Name: Linda\n",
      "Account Type: Regular Account, Account Number: ABC123, Balance: 15000\n",
      "Account Type: Checking Account, Account Number: XYZ789, Balance: 30000\n"
     ]
    }
   ],
   "source": [
    "customer1.print_accounts_report()"
   ]
  },
  {
   "cell_type": "code",
   "execution_count": null,
   "id": "274826dc-91ff-4995-adce-ac1a191282eb",
   "metadata": {},
   "outputs": [],
   "source": []
  }
 ],
 "metadata": {
  "kernelspec": {
   "display_name": "Python 3 (ipykernel)",
   "language": "python",
   "name": "python3"
  },
  "language_info": {
   "codemirror_mode": {
    "name": "ipython",
    "version": 3
   },
   "file_extension": ".py",
   "mimetype": "text/x-python",
   "name": "python",
   "nbconvert_exporter": "python",
   "pygments_lexer": "ipython3",
   "version": "3.8.10"
  }
 },
 "nbformat": 4,
 "nbformat_minor": 5
}
