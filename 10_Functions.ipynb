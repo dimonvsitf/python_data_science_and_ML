{
 "cells": [
  {
   "cell_type": "code",
   "execution_count": 18,
   "id": "e5d00647-e45c-46e0-9036-47e3f55f67a0",
   "metadata": {},
   "outputs": [],
   "source": [
    "def withdraw_funds(amount, balance):\n",
    "    if amount <= balance:\n",
    "        balance = balance - amount \n",
    "        print(f\"Successful withdrawal, current balance {balance}\")\n",
    "    else:\n",
    "        print(\"Error: Insufficient Funds!\")"
   ]
  },
  {
   "cell_type": "code",
   "execution_count": 19,
   "id": "bb5b9d4e-8657-4fc3-8bca-37ec57cd9c77",
   "metadata": {},
   "outputs": [
    {
     "name": "stdout",
     "output_type": "stream",
     "text": [
      "Successful withdrawal, current balance 19800\n"
     ]
    }
   ],
   "source": [
    "withdraw_funds(amount=200, balance=20000)"
   ]
  },
  {
   "cell_type": "code",
   "execution_count": 20,
   "id": "7bae558a-44db-4d07-8545-f6bf95f9a7e2",
   "metadata": {},
   "outputs": [
    {
     "name": "stdout",
     "output_type": "stream",
     "text": [
      "Successful withdrawal, current balance 2600\n"
     ]
    }
   ],
   "source": [
    "withdraw_funds(balance=3000, amount=400)"
   ]
  },
  {
   "cell_type": "code",
   "execution_count": 21,
   "id": "b40e26b3-5b79-4f89-9261-1f752256b03a",
   "metadata": {},
   "outputs": [],
   "source": [
    "def add(number1, number2): \n",
    "    return number1 + number2"
   ]
  },
  {
   "cell_type": "code",
   "execution_count": 22,
   "id": "b4462d6b-1b0c-4745-8185-d0ed837edf83",
   "metadata": {},
   "outputs": [
    {
     "name": "stdout",
     "output_type": "stream",
     "text": [
      "16\n"
     ]
    }
   ],
   "source": [
    "print(add(12, 4))"
   ]
  },
  {
   "cell_type": "code",
   "execution_count": 23,
   "id": "6e0d88b6-1ddd-481f-99ee-3b63911b35a0",
   "metadata": {},
   "outputs": [],
   "source": [
    "btc_prices = [42500, 41750, 43400, 44500, 44900]"
   ]
  },
  {
   "cell_type": "code",
   "execution_count": 24,
   "id": "15cd52ff-0c8c-4b77-b5e1-b375c30689a7",
   "metadata": {},
   "outputs": [
    {
     "data": {
      "text/plain": [
       "217050"
      ]
     },
     "execution_count": 24,
     "metadata": {},
     "output_type": "execute_result"
    }
   ],
   "source": [
    "sum(btc_prices)"
   ]
  },
  {
   "cell_type": "code",
   "execution_count": 25,
   "id": "c3ebba3c-321f-4aad-a96a-be60e11db131",
   "metadata": {},
   "outputs": [],
   "source": [
    "def calculate_ma(prices):\n",
    "    avg_price = sum(prices) / len(prices)\n",
    "    return avg_price"
   ]
  },
  {
   "cell_type": "code",
   "execution_count": 26,
   "id": "a596d32f-0181-4db4-9c32-5fe28f080af0",
   "metadata": {},
   "outputs": [],
   "source": [
    "avg_btc_price = calculate_ma(btc_prices)"
   ]
  },
  {
   "cell_type": "code",
   "execution_count": 27,
   "id": "45350719-3bfd-461d-a100-5ef36f26215e",
   "metadata": {},
   "outputs": [
    {
     "name": "stdout",
     "output_type": "stream",
     "text": [
      "Average BTC price:  43410.0\n"
     ]
    }
   ],
   "source": [
    "print(f\"Average BTC price:  {avg_btc_price}\")"
   ]
  },
  {
   "cell_type": "code",
   "execution_count": 28,
   "id": "d7e8daea-6e22-4e65-85f2-038efe14e11c",
   "metadata": {},
   "outputs": [],
   "source": [
    "def deposit_funds(amount, balance):\n",
    "    if amount > 0:\n",
    "        balance = balance + amount \n",
    "        print(f\"Successful deposit, current balance {balance}\")\n",
    "    else:\n",
    "        print(\"Error: Invalid Amount!\")"
   ]
  },
  {
   "cell_type": "code",
   "execution_count": 29,
   "id": "85dd18c5-a20d-43f9-98b0-98bce6294bd7",
   "metadata": {},
   "outputs": [
    {
     "name": "stdout",
     "output_type": "stream",
     "text": [
      "Successful deposit, current balance 31000\n"
     ]
    }
   ],
   "source": [
    "deposit_funds(amount=1000, balance=30000)"
   ]
  },
  {
   "cell_type": "code",
   "execution_count": null,
   "id": "a86ac2fc-8331-4578-87fe-a65a257fc809",
   "metadata": {},
   "outputs": [],
   "source": []
  }
 ],
 "metadata": {
  "kernelspec": {
   "display_name": "Python (gpt-env1)",
   "language": "python",
   "name": "gpt-env1"
  },
  "language_info": {
   "codemirror_mode": {
    "name": "ipython",
    "version": 3
   },
   "file_extension": ".py",
   "mimetype": "text/x-python",
   "name": "python",
   "nbconvert_exporter": "python",
   "pygments_lexer": "ipython3",
   "version": "3.8.10"
  }
 },
 "nbformat": 4,
 "nbformat_minor": 5
}
