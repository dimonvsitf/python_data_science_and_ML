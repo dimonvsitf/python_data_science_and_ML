{
 "cells": [
  {
   "cell_type": "code",
   "execution_count": 3,
   "id": "e333283a-f30e-4a77-b75f-5cc80fa736c9",
   "metadata": {},
   "outputs": [],
   "source": [
    "from bank_v1 import deposit_funds, withdraw_funds, get_balance"
   ]
  },
  {
   "cell_type": "code",
   "execution_count": 4,
   "id": "7b66a434-14c9-4e24-b577-a7c9a87e1c09",
   "metadata": {},
   "outputs": [
    {
     "data": {
      "text/plain": [
       "20000"
      ]
     },
     "execution_count": 4,
     "metadata": {},
     "output_type": "execute_result"
    }
   ],
   "source": [
    "get_balance()"
   ]
  },
  {
   "cell_type": "code",
   "execution_count": 5,
   "id": "f17f6797-ffb0-4bb7-ad70-ca3b48b51edc",
   "metadata": {},
   "outputs": [
    {
     "name": "stdout",
     "output_type": "stream",
     "text": [
      "Successful deposit, current balance 23000\n"
     ]
    }
   ],
   "source": [
    "deposit_funds(3000)"
   ]
  },
  {
   "cell_type": "code",
   "execution_count": 6,
   "id": "48e26331-4d80-48c6-a240-e47ceb84a29f",
   "metadata": {},
   "outputs": [
    {
     "name": "stdout",
     "output_type": "stream",
     "text": [
      "Successful withdrawal, current balance 13000\n"
     ]
    }
   ],
   "source": [
    "withdraw_funds(10000)"
   ]
  },
  {
   "cell_type": "code",
   "execution_count": null,
   "id": "d015775f-227b-4b5c-a766-6e2789dc581e",
   "metadata": {},
   "outputs": [],
   "source": []
  }
 ],
 "metadata": {
  "kernelspec": {
   "display_name": "Python (gpt-env1)",
   "language": "python",
   "name": "gpt-env1"
  },
  "language_info": {
   "codemirror_mode": {
    "name": "ipython",
    "version": 3
   },
   "file_extension": ".py",
   "mimetype": "text/x-python",
   "name": "python",
   "nbconvert_exporter": "python",
   "pygments_lexer": "ipython3",
   "version": "3.8.10"
  }
 },
 "nbformat": 4,
 "nbformat_minor": 5
}
