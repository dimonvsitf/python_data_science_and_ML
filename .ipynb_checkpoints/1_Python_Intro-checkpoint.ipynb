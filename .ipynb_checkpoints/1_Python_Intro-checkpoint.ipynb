{
 "cells": [
  {
   "cell_type": "code",
   "execution_count": 1,
   "id": "d4ed4f29-ef80-43e7-9a33-7a59091ca2e3",
   "metadata": {},
   "outputs": [],
   "source": [
    "# This is a comment in Python"
   ]
  },
  {
   "cell_type": "code",
   "execution_count": 2,
   "id": "9026b578-dbb6-46c4-ae71-c0d80865c06c",
   "metadata": {},
   "outputs": [],
   "source": [
    "\"\"\"\n",
    "this is a multi-line comment.\n",
    "It continues like this...\n",
    "Bye\n",
    "\"\"\"\n",
    "a = 10"
   ]
  },
  {
   "cell_type": "code",
   "execution_count": 3,
   "id": "acee7ea4-9150-40e3-b43d-99ebc5b8785f",
   "metadata": {},
   "outputs": [],
   "source": [
    "price_of_apple = 10"
   ]
  },
  {
   "cell_type": "code",
   "execution_count": 4,
   "id": "318ab992-752d-475a-9765-08c63069beb0",
   "metadata": {},
   "outputs": [
    {
     "data": {
      "text/plain": [
       "int"
      ]
     },
     "execution_count": 4,
     "metadata": {},
     "output_type": "execute_result"
    }
   ],
   "source": [
    "type(price_of_apple)"
   ]
  },
  {
   "cell_type": "code",
   "execution_count": 5,
   "id": "a4f1d3f2-8190-4492-a371-71e9b9b8fa19",
   "metadata": {},
   "outputs": [],
   "source": [
    "btc_price = 42500.5"
   ]
  },
  {
   "cell_type": "code",
   "execution_count": 6,
   "id": "a79d8f35-7b11-4030-9de9-73eed6fbf1eb",
   "metadata": {},
   "outputs": [
    {
     "data": {
      "text/plain": [
       "float"
      ]
     },
     "execution_count": 6,
     "metadata": {},
     "output_type": "execute_result"
    }
   ],
   "source": [
    "type(btc_price)"
   ]
  },
  {
   "cell_type": "code",
   "execution_count": 7,
   "id": "75c256f1-81da-46ca-ae5d-ee8ec00baaa9",
   "metadata": {},
   "outputs": [],
   "source": [
    "another_price = 0.666"
   ]
  },
  {
   "cell_type": "code",
   "execution_count": 8,
   "id": "053ae1a7-7296-48cb-a1bf-8d6be1210166",
   "metadata": {},
   "outputs": [
    {
     "data": {
      "text/plain": [
       "float"
      ]
     },
     "execution_count": 8,
     "metadata": {},
     "output_type": "execute_result"
    }
   ],
   "source": [
    "type(another_price)"
   ]
  },
  {
   "cell_type": "code",
   "execution_count": 9,
   "id": "88879277-2ceb-42bf-ad9d-01eb4a2f67df",
   "metadata": {},
   "outputs": [],
   "source": [
    "market_bullish = True"
   ]
  },
  {
   "cell_type": "code",
   "execution_count": 10,
   "id": "aef296dd-9319-4825-ab13-0396c91e63e0",
   "metadata": {},
   "outputs": [
    {
     "data": {
      "text/plain": [
       "bool"
      ]
     },
     "execution_count": 10,
     "metadata": {},
     "output_type": "execute_result"
    }
   ],
   "source": [
    "type(market_bullish)"
   ]
  },
  {
   "cell_type": "code",
   "execution_count": 11,
   "id": "56d95a56-4cd2-4209-a732-ed515c84057f",
   "metadata": {},
   "outputs": [
    {
     "data": {
      "text/plain": [
       "True"
      ]
     },
     "execution_count": 11,
     "metadata": {},
     "output_type": "execute_result"
    }
   ],
   "source": [
    "price_of_apple < 20"
   ]
  },
  {
   "cell_type": "code",
   "execution_count": 16,
   "id": "51cf147a-0dbc-47a5-ab9a-0925883ace1e",
   "metadata": {},
   "outputs": [
    {
     "name": "stdin",
     "output_type": "stream",
     "text": [
      "Please enter the price:  100\n"
     ]
    },
    {
     "name": "stdout",
     "output_type": "stream",
     "text": [
      "VAT to pay in AED:  5.0\n"
     ]
    }
   ],
   "source": [
    "price = float(input(\"Please enter the price: \"))\n",
    "\n",
    "vat_rate = 0.05\n",
    "\n",
    "vat_to_pay = price * vat_rate \n",
    "\n",
    "print(\"VAT to pay in AED: \", round(vat_to_pay, 2))"
   ]
  },
  {
   "cell_type": "code",
   "execution_count": 14,
   "id": "8a35c1c3-17da-4d2b-a7ca-9ca5702a9c05",
   "metadata": {},
   "outputs": [
    {
     "data": {
      "text/plain": [
       "123.0"
      ]
     },
     "execution_count": 14,
     "metadata": {},
     "output_type": "execute_result"
    }
   ],
   "source": [
    "price "
   ]
  },
  {
   "cell_type": "code",
   "execution_count": null,
   "id": "e4786255-ff08-456d-9c59-b65541164356",
   "metadata": {},
   "outputs": [],
   "source": []
  }
 ],
 "metadata": {
  "kernelspec": {
   "display_name": "Python (gpt-env1)",
   "language": "python",
   "name": "gpt-env1"
  },
  "language_info": {
   "codemirror_mode": {
    "name": "ipython",
    "version": 3
   },
   "file_extension": ".py",
   "mimetype": "text/x-python",
   "name": "python",
   "nbconvert_exporter": "python",
   "pygments_lexer": "ipython3",
   "version": "3.8.10"
  }
 },
 "nbformat": 4,
 "nbformat_minor": 5
}
