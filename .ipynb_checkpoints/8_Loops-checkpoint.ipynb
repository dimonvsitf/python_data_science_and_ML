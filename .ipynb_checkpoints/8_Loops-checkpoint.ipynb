{
 "cells": [
  {
   "cell_type": "code",
   "execution_count": 1,
   "id": "1fb41a49-9d9d-4a61-8cc7-ed7efebaac48",
   "metadata": {},
   "outputs": [],
   "source": [
    "my_list = list(range(10))"
   ]
  },
  {
   "cell_type": "code",
   "execution_count": 2,
   "id": "b83243b5-4a64-4088-8793-614177c98fe3",
   "metadata": {},
   "outputs": [
    {
     "data": {
      "text/plain": [
       "[0, 1, 2, 3, 4, 5, 6, 7, 8, 9]"
      ]
     },
     "execution_count": 2,
     "metadata": {},
     "output_type": "execute_result"
    }
   ],
   "source": [
    "my_list"
   ]
  },
  {
   "cell_type": "code",
   "execution_count": 3,
   "id": "ea996f06-5790-4336-a0af-fb6d1c645eb8",
   "metadata": {},
   "outputs": [
    {
     "name": "stdout",
     "output_type": "stream",
     "text": [
      "0\n",
      "1\n",
      "4\n",
      "9\n",
      "16\n",
      "25\n",
      "36\n",
      "49\n",
      "64\n",
      "81\n"
     ]
    }
   ],
   "source": [
    "for element in my_list:\n",
    "    print(element ** 2)"
   ]
  },
  {
   "cell_type": "code",
   "execution_count": 4,
   "id": "a28cfa9c-df85-44f9-ab9b-d33785622796",
   "metadata": {},
   "outputs": [],
   "source": [
    "results = []\n",
    "for element in my_list:\n",
    "    results.append(element ** 2)"
   ]
  },
  {
   "cell_type": "code",
   "execution_count": 5,
   "id": "d4315449-de97-451e-8a5c-f3cc34e1cbb7",
   "metadata": {},
   "outputs": [
    {
     "data": {
      "text/plain": [
       "[0, 1, 4, 9, 16, 25, 36, 49, 64, 81]"
      ]
     },
     "execution_count": 5,
     "metadata": {},
     "output_type": "execute_result"
    }
   ],
   "source": [
    "results"
   ]
  },
  {
   "cell_type": "code",
   "execution_count": 8,
   "id": "1a15a3dd-3e88-4fbb-954c-1107a10665ab",
   "metadata": {},
   "outputs": [],
   "source": [
    "# List Comprehensions\n",
    "results1 = [element ** 2 for element in my_list]"
   ]
  },
  {
   "cell_type": "code",
   "execution_count": 13,
   "id": "e600ed7b-6256-4439-8425-02d35dbe3921",
   "metadata": {},
   "outputs": [
    {
     "data": {
      "text/plain": [
       "[0, 1, 4, 9, 16, 25, 36, 49, 64, 81]"
      ]
     },
     "execution_count": 13,
     "metadata": {},
     "output_type": "execute_result"
    }
   ],
   "source": [
    "results1"
   ]
  },
  {
   "cell_type": "code",
   "execution_count": 14,
   "id": "2424cc5e-81d2-4171-b9d4-1afbfa3c5492",
   "metadata": {},
   "outputs": [
    {
     "data": {
      "text/plain": [
       "[0, 1, 2, 3, 4, 5, 6, 7, 8, 9]"
      ]
     },
     "execution_count": 14,
     "metadata": {},
     "output_type": "execute_result"
    }
   ],
   "source": [
    "my_list"
   ]
  },
  {
   "cell_type": "code",
   "execution_count": 11,
   "id": "f4197308-f110-4195-aabd-2118ecb4b99b",
   "metadata": {},
   "outputs": [],
   "source": [
    "even_numbers = []\n",
    "\n",
    "for element in my_list:\n",
    "\n",
    "    if (element % 2 == 0):\n",
    "        even_numbers.append(element)"
   ]
  },
  {
   "cell_type": "code",
   "execution_count": 12,
   "id": "b1503e22-8e03-4049-bee3-3011c61b2b20",
   "metadata": {},
   "outputs": [
    {
     "data": {
      "text/plain": [
       "[0, 2, 4, 6, 8]"
      ]
     },
     "execution_count": 12,
     "metadata": {},
     "output_type": "execute_result"
    }
   ],
   "source": [
    "even_numbers"
   ]
  },
  {
   "cell_type": "code",
   "execution_count": 15,
   "id": "75746d2d-1c92-40da-a288-80c213a4182d",
   "metadata": {},
   "outputs": [],
   "source": [
    "import numpy as np"
   ]
  },
  {
   "cell_type": "code",
   "execution_count": 16,
   "id": "84440cf1-d8e5-4e79-af72-3d86f37e5f74",
   "metadata": {},
   "outputs": [],
   "source": [
    "new_array = np.array(my_list)"
   ]
  },
  {
   "cell_type": "code",
   "execution_count": 17,
   "id": "d8ab288e-0602-490d-a2eb-f6ad5606fcd1",
   "metadata": {},
   "outputs": [
    {
     "data": {
      "text/plain": [
       "array([0, 1, 2, 3, 4, 5, 6, 7, 8, 9])"
      ]
     },
     "execution_count": 17,
     "metadata": {},
     "output_type": "execute_result"
    }
   ],
   "source": [
    "new_array"
   ]
  },
  {
   "cell_type": "code",
   "execution_count": 18,
   "id": "52f2e832-ee10-4d43-99a8-93c918f6ee9b",
   "metadata": {},
   "outputs": [
    {
     "data": {
      "text/plain": [
       "(10,)"
      ]
     },
     "execution_count": 18,
     "metadata": {},
     "output_type": "execute_result"
    }
   ],
   "source": [
    "new_array.shape"
   ]
  },
  {
   "cell_type": "code",
   "execution_count": 23,
   "id": "770c166d-19f7-4dd0-9394-ddbf99486a21",
   "metadata": {},
   "outputs": [],
   "source": [
    "new_array = new_array.reshape(1, 10)"
   ]
  },
  {
   "cell_type": "code",
   "execution_count": 24,
   "id": "c2b020a2-5a1c-4fad-b96b-e95412643d3d",
   "metadata": {},
   "outputs": [
    {
     "data": {
      "text/plain": [
       "(1, 10)"
      ]
     },
     "execution_count": 24,
     "metadata": {},
     "output_type": "execute_result"
    }
   ],
   "source": [
    "new_array.shape"
   ]
  },
  {
   "cell_type": "code",
   "execution_count": 25,
   "id": "b7b9c469-c1c5-48ee-930d-f5acdfd4ebc9",
   "metadata": {},
   "outputs": [
    {
     "data": {
      "text/plain": [
       "array([[0, 1, 2, 3, 4, 5, 6, 7, 8, 9]])"
      ]
     },
     "execution_count": 25,
     "metadata": {},
     "output_type": "execute_result"
    }
   ],
   "source": [
    "new_array"
   ]
  },
  {
   "cell_type": "code",
   "execution_count": 26,
   "id": "d9a977f7-fae6-4bbb-b5c5-db62e893369d",
   "metadata": {},
   "outputs": [],
   "source": [
    "new_array = new_array.reshape(10, 1)"
   ]
  },
  {
   "cell_type": "code",
   "execution_count": 27,
   "id": "71067cdf-5840-4a15-bf73-2913c2159a3a",
   "metadata": {},
   "outputs": [
    {
     "data": {
      "text/plain": [
       "array([[0],\n",
       "       [1],\n",
       "       [2],\n",
       "       [3],\n",
       "       [4],\n",
       "       [5],\n",
       "       [6],\n",
       "       [7],\n",
       "       [8],\n",
       "       [9]])"
      ]
     },
     "execution_count": 27,
     "metadata": {},
     "output_type": "execute_result"
    }
   ],
   "source": [
    "new_array"
   ]
  },
  {
   "cell_type": "code",
   "execution_count": 28,
   "id": "f5f5a051-26a7-4d90-8d77-357fb96b2cb8",
   "metadata": {},
   "outputs": [
    {
     "data": {
      "text/plain": [
       "(10, 1)"
      ]
     },
     "execution_count": 28,
     "metadata": {},
     "output_type": "execute_result"
    }
   ],
   "source": [
    "new_array.shape"
   ]
  },
  {
   "cell_type": "code",
   "execution_count": 30,
   "id": "b4633b5c-09de-40cf-82b7-229ec9996bad",
   "metadata": {},
   "outputs": [],
   "source": [
    "# while True:\n",
    "#     print(\"Welcome to Dubai!\")"
   ]
  },
  {
   "cell_type": "code",
   "execution_count": 32,
   "id": "ffdf4fd1-b7b3-45f4-8052-3d430be503b2",
   "metadata": {},
   "outputs": [
    {
     "name": "stdout",
     "output_type": "stream",
     "text": [
      "counter is currently: 0\n",
      "counter is currently: 1\n",
      "counter is currently: 2\n",
      "counter is currently: 3\n",
      "counter is currently: 4\n",
      "counter is currently: 5\n",
      "counter is currently: 6\n",
      "counter is currently: 7\n",
      "counter is currently: 8\n",
      "counter is currently: 9\n"
     ]
    }
   ],
   "source": [
    "counter = 0\n",
    "\n",
    "while (counter < 10):\n",
    "    print(f\"counter is currently: {counter}\")\n",
    "    counter +=  1 "
   ]
  },
  {
   "cell_type": "code",
   "execution_count": 33,
   "id": "d21085fb-9e97-4437-a8cb-286f22f8a940",
   "metadata": {},
   "outputs": [
    {
     "name": "stdout",
     "output_type": "stream",
     "text": [
      "counter is currently: 0\n",
      "counter is currently: 1\n",
      "counter is currently: 2\n",
      "counter is currently: 3\n",
      "counter is currently: 4\n"
     ]
    }
   ],
   "source": [
    "counter = 0\n",
    "\n",
    "while (counter < 10):\n",
    "    if counter == 5:\n",
    "        break\n",
    "    print(f\"counter is currently: {counter}\")\n",
    "    counter +=  1 "
   ]
  },
  {
   "cell_type": "code",
   "execution_count": 37,
   "id": "26bd5ba7-1d7c-4dc3-bd33-3715844e07d7",
   "metadata": {},
   "outputs": [
    {
     "name": "stdout",
     "output_type": "stream",
     "text": [
      "counter is currently: 0\n",
      "counter is currently: 1\n",
      "counter is currently: 2\n",
      "counter is currently: 3\n",
      "counter is currently: 4\n",
      "counter is currently: 5\n",
      "counter is currently: 6\n",
      "counter is currently: 7\n",
      "counter is currently: 8\n",
      "counter is currently: 9\n"
     ]
    }
   ],
   "source": [
    "counter = 0\n",
    "\n",
    "while (counter < 10):\n",
    "    print(f\"counter is currently: {counter}\")\n",
    "    counter +=1\n",
    "    if counter == 5:\n",
    "        continue\n",
    "\n"
   ]
  },
  {
   "cell_type": "code",
   "execution_count": null,
   "id": "9b698184-2ad8-4224-9d3b-fa2045abfd39",
   "metadata": {},
   "outputs": [],
   "source": []
  }
 ],
 "metadata": {
  "kernelspec": {
   "display_name": "Python (gpt-env1)",
   "language": "python",
   "name": "gpt-env1"
  },
  "language_info": {
   "codemirror_mode": {
    "name": "ipython",
    "version": 3
   },
   "file_extension": ".py",
   "mimetype": "text/x-python",
   "name": "python",
   "nbconvert_exporter": "python",
   "pygments_lexer": "ipython3",
   "version": "3.8.10"
  }
 },
 "nbformat": 4,
 "nbformat_minor": 5
}
