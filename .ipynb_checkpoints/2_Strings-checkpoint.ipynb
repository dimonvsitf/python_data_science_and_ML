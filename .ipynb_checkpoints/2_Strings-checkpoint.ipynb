{
 "cells": [
  {
   "cell_type": "code",
   "execution_count": 1,
   "id": "dd50afbd-162e-40f5-a995-54a61b537334",
   "metadata": {},
   "outputs": [],
   "source": [
    "quote = 'Think Globally and Act Locally'"
   ]
  },
  {
   "cell_type": "code",
   "execution_count": 2,
   "id": "623ef7dc-9304-4d7a-9d4b-0131e04445bd",
   "metadata": {},
   "outputs": [
    {
     "data": {
      "text/plain": [
       "str"
      ]
     },
     "execution_count": 2,
     "metadata": {},
     "output_type": "execute_result"
    }
   ],
   "source": [
    "type(quote)"
   ]
  },
  {
   "cell_type": "code",
   "execution_count": 3,
   "id": "1234c8dd-b164-4198-ae88-4648e84184fe",
   "metadata": {},
   "outputs": [
    {
     "data": {
      "text/plain": [
       "30"
      ]
     },
     "execution_count": 3,
     "metadata": {},
     "output_type": "execute_result"
    }
   ],
   "source": [
    "len(quote)"
   ]
  },
  {
   "cell_type": "code",
   "execution_count": 4,
   "id": "d97d1713-e2bb-4122-bd07-0e49729ec840",
   "metadata": {},
   "outputs": [
    {
     "data": {
      "text/plain": [
       "'THINK GLOBALLY AND ACT LOCALLY'"
      ]
     },
     "execution_count": 4,
     "metadata": {},
     "output_type": "execute_result"
    }
   ],
   "source": [
    "quote.upper()"
   ]
  },
  {
   "cell_type": "code",
   "execution_count": 5,
   "id": "d929fb4c-5186-437e-9025-55a0985ac48e",
   "metadata": {},
   "outputs": [
    {
     "data": {
      "text/plain": [
       "'Think Globally and Act Locally'"
      ]
     },
     "execution_count": 5,
     "metadata": {},
     "output_type": "execute_result"
    }
   ],
   "source": [
    "quote"
   ]
  },
  {
   "cell_type": "code",
   "execution_count": 7,
   "id": "7eae1cc5-d5d7-43ce-892d-4db176831789",
   "metadata": {},
   "outputs": [
    {
     "data": {
      "text/plain": [
       "'think globally and act locally'"
      ]
     },
     "execution_count": 7,
     "metadata": {},
     "output_type": "execute_result"
    }
   ],
   "source": [
    "quote.lower()"
   ]
  },
  {
   "cell_type": "code",
   "execution_count": 11,
   "id": "1b83d340-d029-4924-abad-5f6e8bbf01af",
   "metadata": {},
   "outputs": [],
   "source": [
    "comment = 'I haven\\'t had my lunch today.'"
   ]
  },
  {
   "cell_type": "code",
   "execution_count": 12,
   "id": "760a5f39-b65e-4751-8942-afe15c389d80",
   "metadata": {},
   "outputs": [
    {
     "data": {
      "text/plain": [
       "\"I haven't had my lunch today.\""
      ]
     },
     "execution_count": 12,
     "metadata": {},
     "output_type": "execute_result"
    }
   ],
   "source": [
    "comment"
   ]
  },
  {
   "cell_type": "code",
   "execution_count": 13,
   "id": "cfc55b4e-d908-46e2-a416-d14acfd475f9",
   "metadata": {},
   "outputs": [
    {
     "name": "stdin",
     "output_type": "stream",
     "text": [
      "What is your name? Christos\n"
     ]
    },
    {
     "name": "stdout",
     "output_type": "stream",
     "text": [
      "Hello Christos\n"
     ]
    }
   ],
   "source": [
    "message = input(\"What is your name?\")\n",
    "print(\"Hello \" + message)"
   ]
  },
  {
   "cell_type": "code",
   "execution_count": 14,
   "id": "fffae7c5-b2fa-4d6e-9104-69be9175a233",
   "metadata": {},
   "outputs": [
    {
     "data": {
      "text/plain": [
       "'Think Globally and Act Locally'"
      ]
     },
     "execution_count": 14,
     "metadata": {},
     "output_type": "execute_result"
    }
   ],
   "source": [
    "quote"
   ]
  },
  {
   "cell_type": "code",
   "execution_count": 15,
   "id": "a14a6e3d-e334-41ce-925d-c2a0f089586f",
   "metadata": {},
   "outputs": [
    {
     "data": {
      "text/plain": [
       "'T'"
      ]
     },
     "execution_count": 15,
     "metadata": {},
     "output_type": "execute_result"
    }
   ],
   "source": [
    "quote[0]"
   ]
  },
  {
   "cell_type": "code",
   "execution_count": 16,
   "id": "70aab65a-ffd8-4c11-80d8-40baac55c397",
   "metadata": {},
   "outputs": [
    {
     "data": {
      "text/plain": [
       "'y'"
      ]
     },
     "execution_count": 16,
     "metadata": {},
     "output_type": "execute_result"
    }
   ],
   "source": [
    "quote[-1]"
   ]
  },
  {
   "cell_type": "code",
   "execution_count": 17,
   "id": "eb45d465-c778-44e3-9b7e-0c616587450c",
   "metadata": {},
   "outputs": [
    {
     "data": {
      "text/plain": [
       "'l'"
      ]
     },
     "execution_count": 17,
     "metadata": {},
     "output_type": "execute_result"
    }
   ],
   "source": [
    "quote[-2]"
   ]
  },
  {
   "cell_type": "code",
   "execution_count": 18,
   "id": "368b67a5-8af5-4bae-ad52-0828d4761a8b",
   "metadata": {},
   "outputs": [
    {
     "data": {
      "text/plain": [
       "'Think Globally and Act Locally'"
      ]
     },
     "execution_count": 18,
     "metadata": {},
     "output_type": "execute_result"
    }
   ],
   "source": [
    "quote"
   ]
  },
  {
   "cell_type": "code",
   "execution_count": 19,
   "id": "384220f5-da62-4a34-8c0e-d9a95edc2ee6",
   "metadata": {},
   "outputs": [
    {
     "data": {
      "text/plain": [
       "19"
      ]
     },
     "execution_count": 19,
     "metadata": {},
     "output_type": "execute_result"
    }
   ],
   "source": [
    "quote.find('Act')"
   ]
  },
  {
   "cell_type": "code",
   "execution_count": 21,
   "id": "97167a2d-196e-471e-8359-bc0ea3e7d793",
   "metadata": {},
   "outputs": [
    {
     "data": {
      "text/plain": [
       "'Act Locally'"
      ]
     },
     "execution_count": 21,
     "metadata": {},
     "output_type": "execute_result"
    }
   ],
   "source": [
    "quote[19:]  # This is called slicing "
   ]
  },
  {
   "cell_type": "code",
   "execution_count": 22,
   "id": "99edf36c-076a-4411-a983-39c91dcd8932",
   "metadata": {},
   "outputs": [
    {
     "data": {
      "text/plain": [
       "'Act Locally'"
      ]
     },
     "execution_count": 22,
     "metadata": {},
     "output_type": "execute_result"
    }
   ],
   "source": [
    "quote[quote.find('Act'):] "
   ]
  },
  {
   "cell_type": "code",
   "execution_count": 23,
   "id": "8397baf1-f80a-499b-8c9a-076f046f8674",
   "metadata": {},
   "outputs": [
    {
     "data": {
      "text/plain": [
       "'Think Globally and Act Locally'"
      ]
     },
     "execution_count": 23,
     "metadata": {},
     "output_type": "execute_result"
    }
   ],
   "source": [
    "quote"
   ]
  },
  {
   "cell_type": "code",
   "execution_count": 25,
   "id": "13672f36-7a8a-425c-861d-3841310c8a6b",
   "metadata": {},
   "outputs": [
    {
     "data": {
      "text/plain": [
       "'Think'"
      ]
     },
     "execution_count": 25,
     "metadata": {},
     "output_type": "execute_result"
    }
   ],
   "source": [
    "quote[:5]"
   ]
  },
  {
   "cell_type": "code",
   "execution_count": 26,
   "id": "5f344e92-9e46-468e-8754-66523f66c6cc",
   "metadata": {},
   "outputs": [],
   "source": [
    "customer_data = 'Mark,Smith,mark@innosoft.ai,055028929'"
   ]
  },
  {
   "cell_type": "code",
   "execution_count": 27,
   "id": "fc27dfa9-9a35-4e84-8a9f-cfd34f665329",
   "metadata": {},
   "outputs": [],
   "source": [
    "# Tuple unpacking \n",
    "first_name, last_name, email, mobile = customer_data.split(',')"
   ]
  },
  {
   "cell_type": "code",
   "execution_count": 28,
   "id": "581b681b-8805-483c-ac7f-b8cac9957b1e",
   "metadata": {},
   "outputs": [
    {
     "data": {
      "text/plain": [
       "'mark@innosoft.ai'"
      ]
     },
     "execution_count": 28,
     "metadata": {},
     "output_type": "execute_result"
    }
   ],
   "source": [
    "email"
   ]
  },
  {
   "cell_type": "code",
   "execution_count": 29,
   "id": "8eb810e4-6d5a-49fb-afe5-f3957eacacbb",
   "metadata": {},
   "outputs": [],
   "source": [
    "_, _, email1, _ = customer_data.split(',')"
   ]
  },
  {
   "cell_type": "code",
   "execution_count": 30,
   "id": "04b4fc2f-9a44-40a1-8746-3a9adb664820",
   "metadata": {},
   "outputs": [
    {
     "data": {
      "text/plain": [
       "'mark@innosoft.ai'"
      ]
     },
     "execution_count": 30,
     "metadata": {},
     "output_type": "execute_result"
    }
   ],
   "source": [
    "email1"
   ]
  },
  {
   "cell_type": "code",
   "execution_count": null,
   "id": "4f799a3b-cc4a-469f-809c-e3c9325e0a9e",
   "metadata": {},
   "outputs": [],
   "source": []
  }
 ],
 "metadata": {
  "kernelspec": {
   "display_name": "Python 3 (ipykernel)",
   "language": "python",
   "name": "python3"
  },
  "language_info": {
   "codemirror_mode": {
    "name": "ipython",
    "version": 3
   },
   "file_extension": ".py",
   "mimetype": "text/x-python",
   "name": "python",
   "nbconvert_exporter": "python",
   "pygments_lexer": "ipython3",
   "version": "3.8.10"
  }
 },
 "nbformat": 4,
 "nbformat_minor": 5
}
