{
 "cells": [
  {
   "cell_type": "code",
   "execution_count": 11,
   "id": "e4d20f74-a2cd-4246-82a9-c91d95b56c85",
   "metadata": {},
   "outputs": [],
   "source": [
    "balance = 20000"
   ]
  },
  {
   "cell_type": "code",
   "execution_count": 12,
   "id": "e5d00647-e45c-46e0-9036-47e3f55f67a0",
   "metadata": {},
   "outputs": [],
   "source": [
    "def withdraw_funds(amount):\n",
    "    global balance\n",
    "    if amount <= balance:\n",
    "        balance = balance - amount \n",
    "        print(f\"Successful withdrawal, current balance {balance}\")\n",
    "    else:\n",
    "        print(\"Error: Insufficient Funds!\")"
   ]
  },
  {
   "cell_type": "code",
   "execution_count": 13,
   "id": "bb5b9d4e-8657-4fc3-8bca-37ec57cd9c77",
   "metadata": {},
   "outputs": [
    {
     "name": "stdout",
     "output_type": "stream",
     "text": [
      "Successful withdrawal, current balance 19800\n"
     ]
    }
   ],
   "source": [
    "withdraw_funds(amount=200)"
   ]
  },
  {
   "cell_type": "code",
   "execution_count": 18,
   "id": "45350719-3bfd-461d-a100-5ef36f26215e",
   "metadata": {},
   "outputs": [
    {
     "name": "stdout",
     "output_type": "stream",
     "text": [
      "Average BTC price:  43410.0\n"
     ]
    }
   ],
   "source": []
  },
  {
   "cell_type": "code",
   "execution_count": 19,
   "id": "d7e8daea-6e22-4e65-85f2-038efe14e11c",
   "metadata": {},
   "outputs": [],
   "source": [
    "def deposit_funds(amount):\n",
    "    global balance\n",
    "    if amount > 0:\n",
    "        balance = balance + amount \n",
    "        print(f\"Successful deposit, current balance {balance}\")\n",
    "    else:\n",
    "        print(\"Error: Invalid Amount!\")"
   ]
  },
  {
   "cell_type": "code",
   "execution_count": 21,
   "id": "85dd18c5-a20d-43f9-98b0-98bce6294bd7",
   "metadata": {},
   "outputs": [
    {
     "name": "stdout",
     "output_type": "stream",
     "text": [
      "Successful deposit, current balance 21800\n"
     ]
    }
   ],
   "source": [
    "deposit_funds(1000)"
   ]
  },
  {
   "cell_type": "code",
   "execution_count": 22,
   "id": "a86ac2fc-8331-4578-87fe-a65a257fc809",
   "metadata": {},
   "outputs": [],
   "source": [
    "def get_balance():\n",
    "    global balance\n",
    "    return balance "
   ]
  },
  {
   "cell_type": "code",
   "execution_count": 23,
   "id": "baf8f739-549d-4843-a4b7-8e2441ded5bc",
   "metadata": {},
   "outputs": [
    {
     "data": {
      "text/plain": [
       "21800"
      ]
     },
     "execution_count": 23,
     "metadata": {},
     "output_type": "execute_result"
    }
   ],
   "source": [
    "get_balance()"
   ]
  },
  {
   "cell_type": "code",
   "execution_count": 24,
   "id": "7f38cecd-52f0-4867-8945-eaef99743c47",
   "metadata": {},
   "outputs": [],
   "source": [
    "def calculate_ma(prices):\n",
    "    avg_price = sum(prices) / len(prices)\n",
    "    return avg_price"
   ]
  },
  {
   "cell_type": "code",
   "execution_count": 27,
   "id": "4e72a885-4335-45f5-9ec0-10711c1dc6b6",
   "metadata": {},
   "outputs": [],
   "source": [
    "btc_prices = [42500, 41750, 43400, 44500, 44900]"
   ]
  },
  {
   "cell_type": "code",
   "execution_count": null,
   "id": "bd0a6f15-b13f-4be5-aabf-67e776d2cea5",
   "metadata": {},
   "outputs": [],
   "source": [
    "sum(btc_prices)"
   ]
  },
  {
   "cell_type": "code",
   "execution_count": 26,
   "id": "d2b92177-0ace-46c4-b7b9-8c86a667b64d",
   "metadata": {},
   "outputs": [],
   "source": [
    "avg_btc_price = calculate_ma(btc_prices)"
   ]
  },
  {
   "cell_type": "code",
   "execution_count": null,
   "id": "2b6130ec-a1c0-4cc2-b946-1324b5ec5e45",
   "metadata": {},
   "outputs": [],
   "source": [
    "print(f\"Average BTC price:  {avg_btc_price}\")"
   ]
  },
  {
   "cell_type": "code",
   "execution_count": null,
   "id": "389ebf26-8667-404d-8ba0-d0d94d9ef30f",
   "metadata": {},
   "outputs": [],
   "source": []
  }
 ],
 "metadata": {
  "kernelspec": {
   "display_name": "Python (gpt-env1)",
   "language": "python",
   "name": "gpt-env1"
  },
  "language_info": {
   "codemirror_mode": {
    "name": "ipython",
    "version": 3
   },
   "file_extension": ".py",
   "mimetype": "text/x-python",
   "name": "python",
   "nbconvert_exporter": "python",
   "pygments_lexer": "ipython3",
   "version": "3.8.10"
  }
 },
 "nbformat": 4,
 "nbformat_minor": 5
}
