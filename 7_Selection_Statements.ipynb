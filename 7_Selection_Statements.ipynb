{
 "cells": [
  {
   "cell_type": "code",
   "execution_count": 1,
   "id": "f4df17f6-2696-4c0c-b18c-d0f340193f74",
   "metadata": {},
   "outputs": [
    {
     "name": "stdin",
     "output_type": "stream",
     "text": [
      "Please enter the amount to withdraw:  3000\n"
     ]
    }
   ],
   "source": [
    "amount = float(input(\"Please enter the amount to withdraw: \"))"
   ]
  },
  {
   "cell_type": "code",
   "execution_count": 2,
   "id": "a7b7c956-1f35-49bc-b953-3a09f50af610",
   "metadata": {},
   "outputs": [],
   "source": [
    "balance = 20000"
   ]
  },
  {
   "cell_type": "code",
   "execution_count": 3,
   "id": "abcace3d-4dcb-474b-ab11-59a0501604f9",
   "metadata": {},
   "outputs": [
    {
     "name": "stdout",
     "output_type": "stream",
     "text": [
      "Successful withdrawal, current balance 17000.0\n"
     ]
    }
   ],
   "source": [
    "if amount <= balance:\n",
    "    balance = balance - amount \n",
    "    print(f\"Successful withdrawal, current balance {balance}\")\n",
    "else:\n",
    "    print(\"Error: Insufficient Funds!\")"
   ]
  },
  {
   "cell_type": "code",
   "execution_count": 7,
   "id": "a0dc0201-c383-40c0-976e-eba8b466dbf9",
   "metadata": {},
   "outputs": [
    {
     "name": "stdin",
     "output_type": "stream",
     "text": [
      "Please enter your age:  5\n"
     ]
    },
    {
     "name": "stdout",
     "output_type": "stream",
     "text": [
      "You can go to the Water Park\n"
     ]
    }
   ],
   "source": [
    "age = int(input(\"Please enter your age: \"))\n",
    "\n",
    "if age > 18:\n",
    "    print(\"Welcome to the Jazz Fest...\")\n",
    "elif age == 18:\n",
    "    print(\"You can go to the Youth Fest...\")\n",
    "else:\n",
    "    print(\"You can go to the Water Park\")"
   ]
  },
  {
   "cell_type": "code",
   "execution_count": 11,
   "id": "979e44c1-a242-46b9-9191-7c8059c7561c",
   "metadata": {},
   "outputs": [
    {
     "name": "stdin",
     "output_type": "stream",
     "text": [
      "Please enter the amount to withdraw:  35000\n"
     ]
    },
    {
     "name": "stdout",
     "output_type": "stream",
     "text": [
      "Error: Insufficient Funds!\n"
     ]
    }
   ],
   "source": [
    "amount = float(input(\"Please enter the amount to withdraw: \"))\n",
    "\n",
    "balance = 20000\n",
    "overdraft = 10000\n",
    "\n",
    "if amount <= balance:\n",
    "    balance = balance - amount \n",
    "    print(f\"Successful withdrawal, current balance {balance}, current overdraft {overdraft}\")\n",
    "else:  # The amount to withdraw is greater than the balance \n",
    "    deficit = amount - balance \n",
    "\n",
    "    if deficit <= overdraft: \n",
    "        balance = 0\n",
    "        overdraft = overdraft - deficit \n",
    "        print(f\"Successful withdrawal, current balance {balance}, current overdraft {overdraft}\")\n",
    "    else:\n",
    "        print(\"Error: Insufficient Funds!\")"
   ]
  },
  {
   "cell_type": "code",
   "execution_count": null,
   "id": "1f4dc574-78d8-4f35-acb0-913a4160f66c",
   "metadata": {},
   "outputs": [],
   "source": []
  }
 ],
 "metadata": {
  "kernelspec": {
   "display_name": "Python (gpt-env1)",
   "language": "python",
   "name": "gpt-env1"
  },
  "language_info": {
   "codemirror_mode": {
    "name": "ipython",
    "version": 3
   },
   "file_extension": ".py",
   "mimetype": "text/x-python",
   "name": "python",
   "nbconvert_exporter": "python",
   "pygments_lexer": "ipython3",
   "version": "3.8.10"
  }
 },
 "nbformat": 4,
 "nbformat_minor": 5
}
