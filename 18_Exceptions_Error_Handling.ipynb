{
 "cells": [
  {
   "cell_type": "code",
   "execution_count": 4,
   "id": "126ecdab-76e7-4798-b876-72a84eae8a16",
   "metadata": {},
   "outputs": [],
   "source": [
    "def calculate_roi(net_profit, total_investment):\n",
    "    try:\n",
    "        roi = net_profit / total_investment * 100\n",
    "    except ZeroDivisionError:\n",
    "        return \"Total Investment cannot be zero.\"\n",
    "    else:\n",
    "        return roi \n"
   ]
  },
  {
   "cell_type": "code",
   "execution_count": 5,
   "id": "3bf0cde7-a615-49b2-877d-465b36c48aa5",
   "metadata": {},
   "outputs": [
    {
     "data": {
      "text/plain": [
       "10.0"
      ]
     },
     "execution_count": 5,
     "metadata": {},
     "output_type": "execute_result"
    }
   ],
   "source": [
    "calculate_roi(1000, 10000)"
   ]
  },
  {
   "cell_type": "code",
   "execution_count": 6,
   "id": "13891011-2eb2-4f58-8de2-cdc3d8c809d1",
   "metadata": {},
   "outputs": [
    {
     "data": {
      "text/plain": [
       "'Total Investment cannot be zero.'"
      ]
     },
     "execution_count": 6,
     "metadata": {},
     "output_type": "execute_result"
    }
   ],
   "source": [
    "calculate_roi(1000, 0)"
   ]
  },
  {
   "cell_type": "code",
   "execution_count": 13,
   "id": "eea64b45-75f1-4308-a762-abb516a8f15d",
   "metadata": {},
   "outputs": [],
   "source": [
    "def analyze_stock_price(stock_prices):\n",
    "    try: \n",
    "        average_price = sum(stock_prices) / len(stock_prices)\n",
    "    except TypeError:\n",
    "        return \"Stock prices must be a list of numbers.\"\n",
    "    except ZeroDivisionError:\n",
    "        return \"Stock prices list cannot be empty.\"\n",
    "    else:\n",
    "        return f\"Average Stock Price: {average_price}\"\n",
    "        "
   ]
  },
  {
   "cell_type": "code",
   "execution_count": 14,
   "id": "6eecdc35-a3e0-4c50-9a9f-d66eb94e3b2e",
   "metadata": {},
   "outputs": [
    {
     "data": {
      "text/plain": [
       "'Stock prices list cannot be empty.'"
      ]
     },
     "execution_count": 14,
     "metadata": {},
     "output_type": "execute_result"
    }
   ],
   "source": [
    "analyze_stock_price([])"
   ]
  },
  {
   "cell_type": "code",
   "execution_count": 15,
   "id": "ce653f5b-8a55-43da-85f3-40f615ffe240",
   "metadata": {},
   "outputs": [
    {
     "data": {
      "text/plain": [
       "'Stock prices must be a list of numbers.'"
      ]
     },
     "execution_count": 15,
     "metadata": {},
     "output_type": "execute_result"
    }
   ],
   "source": [
    "analyze_stock_price(34)"
   ]
  },
  {
   "cell_type": "code",
   "execution_count": 16,
   "id": "88cd5a9f-ac40-4ba0-9c3a-61e21a8cd635",
   "metadata": {},
   "outputs": [
    {
     "data": {
      "text/plain": [
       "'Average Stock Price: 46.0'"
      ]
     },
     "execution_count": 16,
     "metadata": {},
     "output_type": "execute_result"
    }
   ],
   "source": [
    "analyze_stock_price([45, 47])"
   ]
  },
  {
   "cell_type": "code",
   "execution_count": 18,
   "id": "5020d59c-f116-46b3-97e7-3f48b90c151c",
   "metadata": {},
   "outputs": [],
   "source": [
    "my_list = [34, 0, 0,0]"
   ]
  },
  {
   "cell_type": "code",
   "execution_count": null,
   "id": "7446d2aa-f2ac-4ccf-a80f-5a3c4c3c4638",
   "metadata": {},
   "outputs": [],
   "source": []
  },
  {
   "cell_type": "code",
   "execution_count": 19,
   "id": "a8cf21ed-116f-4055-a11a-c3aceb26d7b3",
   "metadata": {},
   "outputs": [],
   "source": [
    "def record_transaction(transaction_amount):\n",
    "\n",
    "    transaction_log = None\n",
    "\n",
    "    try:\n",
    "        transaction_log = open(\"transaction_log.txt\", \"a\")\n",
    "\n",
    "        if transaction_amount <=0:\n",
    "            raise ValueError(\"Transaction amount must be positive.\")\n",
    "\n",
    "        transaction_log.write(f\"Transaction: {transaction_amount}\\n\")\n",
    "        print(\"Transaction recorded successfully.\")\n",
    "    except ValueError as e: \n",
    "        print(f\"Transaction failed: {e}\")\n",
    "    \n",
    "    finally:\n",
    "        if transaction_log:\n",
    "            transaction_log.close()\n",
    "            print(\"Transaction log closed.\")"
   ]
  },
  {
   "cell_type": "code",
   "execution_count": 20,
   "id": "99a3fbaf-53a1-4a58-8737-6f2746081644",
   "metadata": {},
   "outputs": [
    {
     "name": "stdout",
     "output_type": "stream",
     "text": [
      "Transaction recorded successfully.\n",
      "Transaction log closed.\n"
     ]
    }
   ],
   "source": [
    "record_transaction(100)"
   ]
  },
  {
   "cell_type": "code",
   "execution_count": 21,
   "id": "3274a454-e9e9-4339-9294-9bcb47d0570f",
   "metadata": {},
   "outputs": [
    {
     "name": "stdout",
     "output_type": "stream",
     "text": [
      "Transaction recorded successfully.\n",
      "Transaction log closed.\n"
     ]
    }
   ],
   "source": [
    "record_transaction(500)"
   ]
  },
  {
   "cell_type": "code",
   "execution_count": 22,
   "id": "39b6e583-d157-4b3e-9d86-48f4bf27d61d",
   "metadata": {},
   "outputs": [
    {
     "name": "stdout",
     "output_type": "stream",
     "text": [
      "Transaction failed: Transaction amount must be positive.\n",
      "Transaction log closed.\n"
     ]
    }
   ],
   "source": [
    "record_transaction(-340)"
   ]
  },
  {
   "cell_type": "code",
   "execution_count": null,
   "id": "351257e5-aafd-4e91-abe7-063d50bdb3b3",
   "metadata": {},
   "outputs": [],
   "source": []
  }
 ],
 "metadata": {
  "kernelspec": {
   "display_name": "Python 3 (ipykernel)",
   "language": "python",
   "name": "python3"
  },
  "language_info": {
   "codemirror_mode": {
    "name": "ipython",
    "version": 3
   },
   "file_extension": ".py",
   "mimetype": "text/x-python",
   "name": "python",
   "nbconvert_exporter": "python",
   "pygments_lexer": "ipython3",
   "version": "3.8.10"
  }
 },
 "nbformat": 4,
 "nbformat_minor": 5
}
