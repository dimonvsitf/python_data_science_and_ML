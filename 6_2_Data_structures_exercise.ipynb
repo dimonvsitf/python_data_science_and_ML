{
 "cells": [
  {
   "cell_type": "markdown",
   "id": "7468a925-4bde-4176-9fa7-d166478ebd36",
   "metadata": {},
   "source": [
    "You are given a series of transactions representing trades in various cryptocurrencies. Your task is to:\n",
    "\n",
    "1. Create a list of tuples where each tuple contains the name of the cryptocurrency, the symbol, and the amount traded.\n",
    "2. Using this list, create a set of all unique cryptocurrencies involved in the transactions.\n",
    "3. Convert the list of tuples into a dictionary where the keys are the cryptocurrency symbols and the values are lists containing the name and total amount traded.\n",
    "4. Find which cryptocurrency had the highest total trade amount."
   ]
  },
  {
   "cell_type": "code",
   "execution_count": 1,
   "id": "e98504b1-aa37-4fef-9095-e99b41fd074c",
   "metadata": {},
   "outputs": [],
   "source": [
    "transactions = [\n",
    "    ('Bitcoin', 'BTC', 0.5),\n",
    "    ('Ethereum', 'ETH', 1.2),\n",
    "    ('Cardano', 'ADA', 5.0),\n",
    "    ('Bitcoin', 'BTC', 0.3),\n",
    "    ('Ethereum', 'ETH', 2.0),\n",
    "    ('Cardano', 'ADA', 3.5),\n",
    "    ('Polkadot', 'DOT', 7.0),\n",
    "    ('Bitcoin', 'BTC', 0.4)\n",
    "]"
   ]
  },
  {
   "cell_type": "code",
   "execution_count": 2,
   "id": "d65c49fe-37b1-4dd9-bbfb-12eb28ad00e6",
   "metadata": {},
   "outputs": [],
   "source": [
    "# Create a list of tuples called crypto_trades from the transaction data provided.\n",
    "crypto_trades = transactions"
   ]
  },
  {
   "cell_type": "code",
   "execution_count": 3,
   "id": "ec38ecaa-98dc-4151-a3da-ae727eef31fe",
   "metadata": {},
   "outputs": [
    {
     "data": {
      "text/plain": [
       "{'ADA', 'BTC', 'DOT', 'ETH'}"
      ]
     },
     "execution_count": 3,
     "metadata": {},
     "output_type": "execute_result"
    }
   ],
   "source": [
    "'''2. Set of Unique Cryptocurrencies\n",
    "Create a set called unique_cryptos that contains the symbols of all unique cryptocurrencies traded.\n",
    "'''\n",
    "unique_cryptos= {trade[1] for trade in crypto_trades}\n",
    "unique_cryptos"
   ]
  },
  {
   "cell_type": "code",
   "execution_count": 4,
   "id": "b9e3c307-1f2c-477b-aa8a-66fc18db1d33",
   "metadata": {
    "scrolled": true
   },
   "outputs": [
    {
     "data": {
      "text/plain": [
       "{'BTC': ['Bitcoin', 1.2000000000000002],\n",
       " 'ETH': ['Ethereum', 3.2],\n",
       " 'ADA': ['Cardano', 8.5],\n",
       " 'DOT': ['Polkadot', 7.0]}"
      ]
     },
     "execution_count": 4,
     "metadata": {},
     "output_type": "execute_result"
    }
   ],
   "source": [
    "''' 3. Dictionary of Total Amounts Traded\n",
    "Create a dictionary called crypto_totals where each key is a cryptocurrency symbol and its value is a list containing the name of the cryptocurrency and the total amount traded.\n",
    "'''\n",
    "crypto_totals= {}\n",
    "for name, symbol, amount in crypto_trades:\n",
    "    if symbol not in crypto_totals:\n",
    "        crypto_totals[symbol] = [name, 0]\n",
    "    crypto_totals[symbol][1] += amount\n",
    "\n",
    "crypto_totals"
   ]
  },
  {
   "cell_type": "code",
   "execution_count": 5,
   "id": "1b41aa63-45eb-4c63-a991-7dbe1d27a6cb",
   "metadata": {},
   "outputs": [
    {
     "name": "stdout",
     "output_type": "stream",
     "text": [
      "The highest amount traded is 8.5 by Cardano)\n"
     ]
    }
   ],
   "source": [
    "'''4. Highest Total Trade Amount\n",
    "Determine which cryptocurrency had the highest total trade amount and print out the name of the cryptocurrency along with the total amount traded.\n",
    "'''\n",
    "max_total=0\n",
    "max_name = \"\"\n",
    "for symbol, [name, total] in crypto_totals.items():\n",
    "    if total > max_total:\n",
    "        max_total = total\n",
    "        max_name = name\n",
    "\n",
    "print(f'The highest amount traded is {max_total} by {max_name})')"
   ]
  }
 ],
 "metadata": {
  "kernelspec": {
   "display_name": "Python 3 (ipykernel)",
   "language": "python",
   "name": "python3"
  },
  "language_info": {
   "codemirror_mode": {
    "name": "ipython",
    "version": 3
   },
   "file_extension": ".py",
   "mimetype": "text/x-python",
   "name": "python",
   "nbconvert_exporter": "python",
   "pygments_lexer": "ipython3",
   "version": "3.11.7"
  }
 },
 "nbformat": 4,
 "nbformat_minor": 5
}
